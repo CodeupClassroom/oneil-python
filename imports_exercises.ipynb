{
 "cells": [
  {
   "cell_type": "markdown",
   "id": "7a5409cf",
   "metadata": {},
   "source": [
    "#### Import and test 3 of the functions from your functions exercise file. Import each function in a different way:"
   ]
  },
  {
   "cell_type": "markdown",
   "id": "65940257",
   "metadata": {},
   "source": [
    "#### Run an interactive python session and import the module. Call the is_vowel function using the . syntax.\n"
   ]
  },
  {
   "cell_type": "markdown",
   "id": "dc702da8",
   "metadata": {},
   "source": [
    "Done in the terminal, nothing to show here"
   ]
  },
  {
   "cell_type": "markdown",
   "id": "9132506f",
   "metadata": {},
   "source": [
    "#### Create a file named import_exericses.py. Within this file, use from to import the calculate_tip function directly. Call this function with values you choose and print the result."
   ]
  },
  {
   "cell_type": "markdown",
   "id": "02697711",
   "metadata": {},
   "source": [
    "Done in VS code, nothing to show here"
   ]
  },
  {
   "cell_type": "markdown",
   "id": "8b4764e7",
   "metadata": {},
   "source": [
    "#### Create a jupyter notebook named import_exercises.ipynb. Use from to import the get_letter_grade function and give it an alias. Test this function in your notebook."
   ]
  },
  {
   "cell_type": "code",
   "execution_count": 201,
   "id": "97472606",
   "metadata": {},
   "outputs": [],
   "source": [
    "from functions import get_letter_grade as glg"
   ]
  },
  {
   "cell_type": "code",
   "execution_count": 202,
   "id": "def7c7d9",
   "metadata": {},
   "outputs": [
    {
     "data": {
      "text/plain": [
       "'B'"
      ]
     },
     "execution_count": 202,
     "metadata": {},
     "output_type": "execute_result"
    }
   ],
   "source": [
    "glg(87)"
   ]
  },
  {
   "cell_type": "code",
   "execution_count": 203,
   "id": "7752a369",
   "metadata": {},
   "outputs": [
    {
     "data": {
      "text/plain": [
       "'A'"
      ]
     },
     "execution_count": 203,
     "metadata": {},
     "output_type": "execute_result"
    }
   ],
   "source": [
    "glg(99)"
   ]
  },
  {
   "cell_type": "code",
   "execution_count": 204,
   "id": "4d5343c9",
   "metadata": {},
   "outputs": [
    {
     "data": {
      "text/plain": [
       "'F'"
      ]
     },
     "execution_count": 204,
     "metadata": {},
     "output_type": "execute_result"
    }
   ],
   "source": [
    "glg(23)"
   ]
  },
  {
   "cell_type": "code",
   "execution_count": 205,
   "id": "a086dca6",
   "metadata": {},
   "outputs": [
    {
     "data": {
      "text/plain": [
       "'F'"
      ]
     },
     "execution_count": 205,
     "metadata": {},
     "output_type": "execute_result"
    }
   ],
   "source": [
    "glg(56)"
   ]
  },
  {
   "cell_type": "markdown",
   "id": "1efbad1a",
   "metadata": {},
   "source": [
    "#### Read about and use the itertools module from the python standard library to help you solve the following problems:"
   ]
  },
  {
   "cell_type": "code",
   "execution_count": 206,
   "id": "34c8f70f",
   "metadata": {},
   "outputs": [],
   "source": [
    "import itertools"
   ]
  },
  {
   "cell_type": "markdown",
   "id": "6802c9ae",
   "metadata": {},
   "source": [
    "#### How many different ways can you combine a single letter from \"abc\" with either 1, 2, or 3?"
   ]
  },
  {
   "cell_type": "code",
   "execution_count": 208,
   "id": "519e25ba",
   "metadata": {},
   "outputs": [
    {
     "data": {
      "text/plain": [
       "<itertools.product at 0x109a38900>"
      ]
     },
     "execution_count": 208,
     "metadata": {},
     "output_type": "execute_result"
    }
   ],
   "source": [
    "itertools.product('abc','123')"
   ]
  },
  {
   "cell_type": "markdown",
   "id": "152d8e71",
   "metadata": {},
   "source": [
    "> not in its final form"
   ]
  },
  {
   "cell_type": "code",
   "execution_count": 210,
   "id": "05ab0a7b",
   "metadata": {},
   "outputs": [
    {
     "data": {
      "text/plain": [
       "[('a', '1'),\n",
       " ('a', '2'),\n",
       " ('a', '3'),\n",
       " ('b', '1'),\n",
       " ('b', '2'),\n",
       " ('b', '3'),\n",
       " ('c', '1'),\n",
       " ('c', '2'),\n",
       " ('c', '3')]"
      ]
     },
     "execution_count": 210,
     "metadata": {},
     "output_type": "execute_result"
    }
   ],
   "source": [
    "list(itertools.product('abc','123'))"
   ]
  },
  {
   "cell_type": "markdown",
   "id": "c44572dc",
   "metadata": {},
   "source": [
    "> still need to count the number of elements in the list"
   ]
  },
  {
   "cell_type": "code",
   "execution_count": 215,
   "id": "c066ae10",
   "metadata": {},
   "outputs": [
    {
     "data": {
      "text/plain": [
       "9"
      ]
     },
     "execution_count": 215,
     "metadata": {},
     "output_type": "execute_result"
    }
   ],
   "source": [
    "len(list(itertools.product('abc','123')))"
   ]
  },
  {
   "cell_type": "markdown",
   "id": "19571da1",
   "metadata": {},
   "source": [
    "#### How many different combinations are there of 2 letters from \"abcd\"?"
   ]
  },
  {
   "cell_type": "code",
   "execution_count": 216,
   "id": "b6a1e505",
   "metadata": {},
   "outputs": [
    {
     "data": {
      "text/plain": [
       "<itertools.combinations at 0x109da5270>"
      ]
     },
     "execution_count": 216,
     "metadata": {},
     "output_type": "execute_result"
    }
   ],
   "source": [
    "itertools.combinations('abcd', 2)"
   ]
  },
  {
   "cell_type": "code",
   "execution_count": 217,
   "id": "d27ac1d2",
   "metadata": {},
   "outputs": [
    {
     "data": {
      "text/plain": [
       "[('a', 'b'), ('a', 'c'), ('a', 'd'), ('b', 'c'), ('b', 'd'), ('c', 'd')]"
      ]
     },
     "execution_count": 217,
     "metadata": {},
     "output_type": "execute_result"
    }
   ],
   "source": [
    "list(itertools.combinations('abcd', 2))"
   ]
  },
  {
   "cell_type": "code",
   "execution_count": 218,
   "id": "28237412",
   "metadata": {},
   "outputs": [
    {
     "data": {
      "text/plain": [
       "6"
      ]
     },
     "execution_count": 218,
     "metadata": {},
     "output_type": "execute_result"
    }
   ],
   "source": [
    "len(list(itertools.combinations('abcd', 2)))"
   ]
  },
  {
   "cell_type": "markdown",
   "id": "3e8ece48",
   "metadata": {},
   "source": [
    "#### How many different permutations are there of 2 letters from \"abcd\"?"
   ]
  },
  {
   "cell_type": "code",
   "execution_count": 219,
   "id": "e1176060",
   "metadata": {},
   "outputs": [
    {
     "data": {
      "text/plain": [
       "<itertools.permutations at 0x109c1dea0>"
      ]
     },
     "execution_count": 219,
     "metadata": {},
     "output_type": "execute_result"
    }
   ],
   "source": [
    "itertools.permutations('abcd',2)"
   ]
  },
  {
   "cell_type": "code",
   "execution_count": 220,
   "id": "e2157d05",
   "metadata": {},
   "outputs": [
    {
     "data": {
      "text/plain": [
       "[('a', 'b'),\n",
       " ('a', 'c'),\n",
       " ('a', 'd'),\n",
       " ('b', 'a'),\n",
       " ('b', 'c'),\n",
       " ('b', 'd'),\n",
       " ('c', 'a'),\n",
       " ('c', 'b'),\n",
       " ('c', 'd'),\n",
       " ('d', 'a'),\n",
       " ('d', 'b'),\n",
       " ('d', 'c')]"
      ]
     },
     "execution_count": 220,
     "metadata": {},
     "output_type": "execute_result"
    }
   ],
   "source": [
    "list(itertools.permutations('abcd',2))"
   ]
  },
  {
   "cell_type": "code",
   "execution_count": 221,
   "id": "4b19fed2",
   "metadata": {},
   "outputs": [
    {
     "data": {
      "text/plain": [
       "12"
      ]
     },
     "execution_count": 221,
     "metadata": {},
     "output_type": "execute_result"
    }
   ],
   "source": [
    "len(list(itertools.permutations('abcd',2)))"
   ]
  },
  {
   "cell_type": "markdown",
   "id": "18eae6a6",
   "metadata": {},
   "source": [
    "#### Save this file as profiles.json inside of your exercises directory (right click -> save file as...)."
   ]
  },
  {
   "cell_type": "markdown",
   "id": "4864343c",
   "metadata": {},
   "source": [
    "#### Use the load function from the json module to open this file."
   ]
  },
  {
   "cell_type": "code",
   "execution_count": 222,
   "id": "0e89bd0d",
   "metadata": {},
   "outputs": [],
   "source": [
    "import json"
   ]
  },
  {
   "cell_type": "code",
   "execution_count": 223,
   "id": "b9ea69fe",
   "metadata": {},
   "outputs": [],
   "source": [
    "profiles = json.load(open('profiles.json'))"
   ]
  },
  {
   "cell_type": "markdown",
   "id": "97b09e52",
   "metadata": {},
   "source": [
    "#### Your code should produce a list of dictionaries. Using this data, write some code that calculates and outputs the following information:"
   ]
  },
  {
   "cell_type": "code",
   "execution_count": 224,
   "id": "e0663037",
   "metadata": {
    "scrolled": false
   },
   "outputs": [
    {
     "data": {
      "text/plain": [
       "{'_id': '54e23c3e54e4094147a3b1da',\n",
       " 'index': 3,\n",
       " 'guid': '69eb3454-8acc-46f1-a636-c6df00dfb542',\n",
       " 'isActive': False,\n",
       " 'balance': '$3,919.64',\n",
       " 'picture': 'http://placehold.it/32x32',\n",
       " 'age': 20,\n",
       " 'eyeColor': 'green',\n",
       " 'name': 'Fay Hammond',\n",
       " 'gender': 'female',\n",
       " 'company': 'INRT',\n",
       " 'email': 'fayhammond@inrt.com',\n",
       " 'phone': '+1 (922) 429-2592',\n",
       " 'address': '518 Randolph Street, Whitestone, Arizona, 8189',\n",
       " 'about': 'Aliqua sunt exercitation quis cupidatat fugiat nulla laboris occaecat ut reprehenderit qui incididunt. Amet excepteur qui amet mollit sint enim velit est dolor eu. Velit labore ea aute ipsum consequat culpa cupidatat excepteur aliqua. Sit commodo id est deserunt commodo. Labore sit deserunt enim in dolore incididunt. Officia qui est veniam cillum consequat minim duis Lorem esse magna culpa cupidatat cupidatat enim. Amet eiusmod elit qui reprehenderit commodo quis.\\r\\n',\n",
       " 'registered': '2015-01-30T08:05:38 +06:00',\n",
       " 'latitude': 33.825844,\n",
       " 'longitude': -65.969538,\n",
       " 'tags': ['aliqua', 'esse', 'sint', 'pariatur', 'commodo', 'do', 'anim'],\n",
       " 'friends': [{'id': 0, 'name': 'Dudley Booker'},\n",
       "  {'id': 1, 'name': 'Esmeralda Tyler'},\n",
       "  {'id': 2, 'name': 'Rosa Hampton'}],\n",
       " 'greeting': 'Hello, Fay Hammond! You have 10 unread messages.',\n",
       " 'favoriteFruit': 'banana'}"
      ]
     },
     "execution_count": 224,
     "metadata": {},
     "output_type": "execute_result"
    }
   ],
   "source": [
    "profiles[3]"
   ]
  },
  {
   "cell_type": "markdown",
   "id": "bdba1c9e",
   "metadata": {},
   "source": [
    "#### Total number of users"
   ]
  },
  {
   "cell_type": "code",
   "execution_count": 225,
   "id": "d7d43458",
   "metadata": {},
   "outputs": [
    {
     "data": {
      "text/plain": [
       "19"
      ]
     },
     "execution_count": 225,
     "metadata": {},
     "output_type": "execute_result"
    }
   ],
   "source": [
    "len(profiles)"
   ]
  },
  {
   "cell_type": "markdown",
   "id": "db85e892",
   "metadata": {},
   "source": [
    "#### Number of active users"
   ]
  },
  {
   "cell_type": "code",
   "execution_count": 226,
   "id": "ec05198a",
   "metadata": {},
   "outputs": [
    {
     "data": {
      "text/plain": [
       "{'_id': '54e23c3e46ab53a440b580e8',\n",
       " 'index': 0,\n",
       " 'guid': '9962b468-ef3e-4993-b677-617469bc3008',\n",
       " 'isActive': False,\n",
       " 'balance': '$2,097.02',\n",
       " 'picture': 'http://placehold.it/32x32',\n",
       " 'age': 39,\n",
       " 'eyeColor': 'blue',\n",
       " 'name': 'Hebert Estes',\n",
       " 'gender': 'male',\n",
       " 'company': 'ANDRYX',\n",
       " 'email': 'hebertestes@andryx.com',\n",
       " 'phone': '+1 (866) 456-2268',\n",
       " 'address': '121 Emmons Avenue, Klondike, Kentucky, 5975',\n",
       " 'about': 'Sit cillum deserunt irure laboris tempor fugiat laboris. Amet commodo amet est incididunt. Dolore qui fugiat cillum pariatur dolore excepteur elit ipsum.\\r\\n',\n",
       " 'registered': '2014-11-10T01:44:03 +06:00',\n",
       " 'latitude': -80.157843,\n",
       " 'longitude': 161.93016,\n",
       " 'tags': ['sit', 'occaecat', 'non', 'ea', 'sit', 'laboris', 'exercitation'],\n",
       " 'friends': [{'id': 0, 'name': 'Tanisha Leonard'},\n",
       "  {'id': 1, 'name': 'Dennis Wilson'},\n",
       "  {'id': 2, 'name': 'Lupe Howe'}],\n",
       " 'greeting': 'Hello, Hebert Estes! You have 4 unread messages.',\n",
       " 'favoriteFruit': 'strawberry'}"
      ]
     },
     "execution_count": 226,
     "metadata": {},
     "output_type": "execute_result"
    }
   ],
   "source": [
    "profiles[0]"
   ]
  },
  {
   "cell_type": "code",
   "execution_count": 228,
   "id": "90371558",
   "metadata": {},
   "outputs": [
    {
     "data": {
      "text/plain": [
       "False"
      ]
     },
     "execution_count": 228,
     "metadata": {},
     "output_type": "execute_result"
    }
   ],
   "source": [
    "#find the value for one\n",
    "profiles[0]['isActive']"
   ]
  },
  {
   "cell_type": "code",
   "execution_count": 231,
   "id": "4c065c01",
   "metadata": {},
   "outputs": [
    {
     "name": "stdout",
     "output_type": "stream",
     "text": [
      "False\n",
      "this user isnt active\n",
      "False\n",
      "this user isnt active\n",
      "True\n",
      "this user is active\n",
      "False\n",
      "this user isnt active\n",
      "False\n",
      "this user isnt active\n",
      "True\n",
      "this user is active\n",
      "False\n",
      "this user isnt active\n",
      "False\n",
      "this user isnt active\n",
      "False\n",
      "this user isnt active\n",
      "True\n",
      "this user is active\n",
      "True\n",
      "this user is active\n",
      "True\n",
      "this user is active\n",
      "False\n",
      "this user isnt active\n",
      "True\n",
      "this user is active\n",
      "True\n",
      "this user is active\n",
      "False\n",
      "this user isnt active\n",
      "False\n",
      "this user isnt active\n",
      "True\n",
      "this user is active\n",
      "True\n",
      "this user is active\n"
     ]
    },
    {
     "data": {
      "text/plain": [
       "9"
      ]
     },
     "execution_count": 231,
     "metadata": {},
     "output_type": "execute_result"
    }
   ],
   "source": [
    "#initialize count in the same cell as my for loop\n",
    "count = 0 \n",
    "\n",
    "for profile in profiles:\n",
    "    #print out what it actually is \n",
    "    print(profile['isActive'])\n",
    "    \n",
    "    if profile['isActive']:\n",
    "        #print to ensure it's catching the active people\n",
    "        print('this user is active')\n",
    "        count += 1\n",
    "    else:\n",
    "        print('this user isnt active')\n",
    "        \n",
    "        \n",
    "#print out the final count\n",
    "count"
   ]
  },
  {
   "cell_type": "markdown",
   "id": "2b5a67c0",
   "metadata": {},
   "source": [
    "#### Number of inactive users"
   ]
  },
  {
   "cell_type": "code",
   "execution_count": 233,
   "id": "2609d965",
   "metadata": {},
   "outputs": [
    {
     "data": {
      "text/plain": [
       "10"
      ]
     },
     "execution_count": 233,
     "metadata": {},
     "output_type": "execute_result"
    }
   ],
   "source": [
    "count = 0 \n",
    "\n",
    "for profile in profiles:\n",
    "    #changed condition to check if its false\n",
    "    if profile['isActive'] == False:\n",
    "        count += 1\n",
    "count"
   ]
  },
  {
   "cell_type": "markdown",
   "id": "e04caf15",
   "metadata": {},
   "source": [
    "> the number of inactive and active users add up to the total users"
   ]
  },
  {
   "cell_type": "markdown",
   "id": "78aff8f4",
   "metadata": {},
   "source": [
    "#### Grand total of balances for all users"
   ]
  },
  {
   "cell_type": "code",
   "execution_count": 235,
   "id": "842a7ef3",
   "metadata": {},
   "outputs": [
    {
     "data": {
      "text/plain": [
       "'2097.02'"
      ]
     },
     "execution_count": 235,
     "metadata": {},
     "output_type": "execute_result"
    }
   ],
   "source": [
    "#do it for one profile\n",
    "profiles[0]['balance'].strip('$').replace(',','')"
   ]
  },
  {
   "cell_type": "code",
   "execution_count": 237,
   "id": "cd9c3f04",
   "metadata": {},
   "outputs": [
    {
     "name": "stdout",
     "output_type": "stream",
     "text": [
      "2097.02\n",
      "3654.02\n",
      "1536.02\n",
      "3919.64\n",
      "3681.39\n",
      "1694.42\n",
      "1214.1\n",
      "2930.31\n",
      "1944.15\n",
      "2839.22\n",
      "2467.31\n",
      "3304.99\n",
      "3844.42\n",
      "3594.99\n",
      "2940.24\n",
      "3062.41\n",
      "3067.82\n",
      "2646.76\n",
      "2227.79\n"
     ]
    },
    {
     "data": {
      "text/plain": [
       "52667.02"
      ]
     },
     "execution_count": 237,
     "metadata": {},
     "output_type": "execute_result"
    }
   ],
   "source": [
    "grand_total = 0\n",
    "\n",
    "#put it in a loop to do it for all profiles\n",
    "for profile in profiles:\n",
    "    bal = float(profile['balance'].strip('$').replace(',',''))\n",
    "    print(bal)\n",
    "    grand_total += bal\n",
    "\n",
    "grand_total"
   ]
  },
  {
   "cell_type": "markdown",
   "id": "60bdfd5d",
   "metadata": {},
   "source": [
    "#### Average balance per user"
   ]
  },
  {
   "cell_type": "code",
   "execution_count": 238,
   "id": "b08218af",
   "metadata": {},
   "outputs": [
    {
     "data": {
      "text/plain": [
       "2771.95"
      ]
     },
     "execution_count": 238,
     "metadata": {},
     "output_type": "execute_result"
    }
   ],
   "source": [
    "round(grand_total / len(profiles),2)"
   ]
  },
  {
   "cell_type": "markdown",
   "id": "8480988f",
   "metadata": {},
   "source": [
    "#### User with the lowest balance"
   ]
  },
  {
   "cell_type": "code",
   "execution_count": 240,
   "id": "82527886",
   "metadata": {},
   "outputs": [
    {
     "data": {
      "text/plain": [
       "[2097.02,\n",
       " 3654.02,\n",
       " 1536.02,\n",
       " 3919.64,\n",
       " 3681.39,\n",
       " 1694.42,\n",
       " 1214.1,\n",
       " 2930.31,\n",
       " 1944.15,\n",
       " 2839.22,\n",
       " 2467.31,\n",
       " 3304.99,\n",
       " 3844.42,\n",
       " 3594.99,\n",
       " 2940.24,\n",
       " 3062.41,\n",
       " 3067.82,\n",
       " 2646.76,\n",
       " 2227.79]"
      ]
     },
     "execution_count": 240,
     "metadata": {},
     "output_type": "execute_result"
    }
   ],
   "source": [
    "balance_ls = []\n",
    "\n",
    "#putting all my cleaned balances in a list\n",
    "for profile in profiles:\n",
    "    bal = profile['balance'].strip('$').replace(',','')\n",
    "    bal = float(bal)\n",
    "    balance_ls.append(bal)\n",
    "\n",
    "balance_ls"
   ]
  },
  {
   "cell_type": "code",
   "execution_count": 246,
   "id": "7b0ec874",
   "metadata": {},
   "outputs": [
    {
     "data": {
      "text/plain": [
       "['1', '2', '10', '3', '11']"
      ]
     },
     "execution_count": 246,
     "metadata": {},
     "output_type": "execute_result"
    }
   ],
   "source": [
    "#create a list of string values that contain numbers\n",
    "ls = ['1','2','10','3','11']\n",
    "ls"
   ]
  },
  {
   "cell_type": "code",
   "execution_count": 247,
   "id": "198b2e36",
   "metadata": {},
   "outputs": [
    {
     "data": {
      "text/plain": [
       "['1', '10', '11', '2', '3']"
      ]
     },
     "execution_count": 247,
     "metadata": {},
     "output_type": "execute_result"
    }
   ],
   "source": [
    "# look at how this sorts\n",
    "ls.sort()\n",
    "ls"
   ]
  },
  {
   "cell_type": "code",
   "execution_count": 248,
   "id": "ebe1bee9",
   "metadata": {},
   "outputs": [
    {
     "data": {
      "text/plain": [
       "'3'"
      ]
     },
     "execution_count": 248,
     "metadata": {},
     "output_type": "execute_result"
    }
   ],
   "source": [
    "max(ls)"
   ]
  },
  {
   "cell_type": "markdown",
   "id": "58a98457",
   "metadata": {},
   "source": [
    "> be careful with taking the min and max of string numbers"
   ]
  },
  {
   "cell_type": "code",
   "execution_count": 251,
   "id": "0ef4444e",
   "metadata": {},
   "outputs": [
    {
     "data": {
      "text/plain": [
       "[1, 2, 10, 3, 11]"
      ]
     },
     "execution_count": 251,
     "metadata": {},
     "output_type": "execute_result"
    }
   ],
   "source": [
    "#create a list of numbers with the int datatype\n",
    "ls_num = [1,2,10,3,11]\n",
    "ls_num"
   ]
  },
  {
   "cell_type": "code",
   "execution_count": 253,
   "id": "9ff7a08a",
   "metadata": {},
   "outputs": [
    {
     "data": {
      "text/plain": [
       "11"
      ]
     },
     "execution_count": 253,
     "metadata": {},
     "output_type": "execute_result"
    }
   ],
   "source": [
    "max(ls_num)"
   ]
  },
  {
   "cell_type": "markdown",
   "id": "2e573fca",
   "metadata": {},
   "source": [
    "> this gives us the true maximum"
   ]
  },
  {
   "cell_type": "code",
   "execution_count": 255,
   "id": "0588c6eb",
   "metadata": {},
   "outputs": [
    {
     "data": {
      "text/plain": [
       "[2097.02,\n",
       " 3654.02,\n",
       " 1536.02,\n",
       " 3919.64,\n",
       " 3681.39,\n",
       " 1694.42,\n",
       " 1214.1,\n",
       " 2930.31,\n",
       " 1944.15,\n",
       " 2839.22,\n",
       " 2467.31,\n",
       " 3304.99,\n",
       " 3844.42,\n",
       " 3594.99,\n",
       " 2940.24,\n",
       " 3062.41,\n",
       " 3067.82,\n",
       " 2646.76,\n",
       " 2227.79]"
      ]
     },
     "execution_count": 255,
     "metadata": {},
     "output_type": "execute_result"
    }
   ],
   "source": [
    "#pulling back our balance list\n",
    "balance_ls"
   ]
  },
  {
   "cell_type": "code",
   "execution_count": 256,
   "id": "93d7f577",
   "metadata": {},
   "outputs": [
    {
     "data": {
      "text/plain": [
       "1214.1"
      ]
     },
     "execution_count": 256,
     "metadata": {},
     "output_type": "execute_result"
    }
   ],
   "source": [
    "min_bal = min(balance_ls)\n",
    "min_bal"
   ]
  },
  {
   "cell_type": "code",
   "execution_count": 257,
   "id": "07620746",
   "metadata": {},
   "outputs": [
    {
     "data": {
      "text/plain": [
       "{'_id': '54e23c3e46ab53a440b580e8',\n",
       " 'index': 0,\n",
       " 'guid': '9962b468-ef3e-4993-b677-617469bc3008',\n",
       " 'isActive': False,\n",
       " 'balance': '$2,097.02',\n",
       " 'picture': 'http://placehold.it/32x32',\n",
       " 'age': 39,\n",
       " 'eyeColor': 'blue',\n",
       " 'name': 'Hebert Estes',\n",
       " 'gender': 'male',\n",
       " 'company': 'ANDRYX',\n",
       " 'email': 'hebertestes@andryx.com',\n",
       " 'phone': '+1 (866) 456-2268',\n",
       " 'address': '121 Emmons Avenue, Klondike, Kentucky, 5975',\n",
       " 'about': 'Sit cillum deserunt irure laboris tempor fugiat laboris. Amet commodo amet est incididunt. Dolore qui fugiat cillum pariatur dolore excepteur elit ipsum.\\r\\n',\n",
       " 'registered': '2014-11-10T01:44:03 +06:00',\n",
       " 'latitude': -80.157843,\n",
       " 'longitude': 161.93016,\n",
       " 'tags': ['sit', 'occaecat', 'non', 'ea', 'sit', 'laboris', 'exercitation'],\n",
       " 'friends': [{'id': 0, 'name': 'Tanisha Leonard'},\n",
       "  {'id': 1, 'name': 'Dennis Wilson'},\n",
       "  {'id': 2, 'name': 'Lupe Howe'}],\n",
       " 'greeting': 'Hello, Hebert Estes! You have 4 unread messages.',\n",
       " 'favoriteFruit': 'strawberry'}"
      ]
     },
     "execution_count": 257,
     "metadata": {},
     "output_type": "execute_result"
    }
   ],
   "source": [
    "profiles[0]"
   ]
  },
  {
   "cell_type": "code",
   "execution_count": 258,
   "id": "6623e8aa",
   "metadata": {},
   "outputs": [
    {
     "name": "stdout",
     "output_type": "stream",
     "text": [
      "this is the minimum balance\n",
      "Avery Flynn 1214.1\n"
     ]
    }
   ],
   "source": [
    "for profile in profiles:\n",
    "    bal = float(profile['balance'].strip('$').replace(',',''))\n",
    "    \n",
    "    #find where the min balance calcaulted equals the balance of a user\n",
    "    if bal == min_bal:\n",
    "        print('this is the minimum balance')\n",
    "        print(profile['name'], min_bal)"
   ]
  },
  {
   "cell_type": "markdown",
   "id": "5c1b248c",
   "metadata": {},
   "source": [
    "#### User with the highest balance"
   ]
  },
  {
   "cell_type": "code",
   "execution_count": 261,
   "id": "edafc873",
   "metadata": {},
   "outputs": [
    {
     "data": {
      "text/plain": [
       "3919.64"
      ]
     },
     "execution_count": 261,
     "metadata": {},
     "output_type": "execute_result"
    }
   ],
   "source": [
    "#find max balanace\n",
    "max_bal = max(balance_ls)\n",
    "max_bal"
   ]
  },
  {
   "cell_type": "code",
   "execution_count": 262,
   "id": "f732d0ba",
   "metadata": {},
   "outputs": [
    {
     "name": "stdout",
     "output_type": "stream",
     "text": [
      "this is the maximum balance\n",
      "Fay Hammond 3919.64\n"
     ]
    }
   ],
   "source": [
    "for profile in profiles:\n",
    "    bal = float(profile['balance'].strip('$').replace(',',''))\n",
    "    \n",
    "    #switched to max balance\n",
    "    if bal == max_bal:\n",
    "        print('this is the maximum balance')\n",
    "        print(profile['name'], max_bal)"
   ]
  },
  {
   "cell_type": "markdown",
   "id": "966bd890",
   "metadata": {},
   "source": [
    "#### Most common favorite fruit"
   ]
  },
  {
   "cell_type": "code",
   "execution_count": 263,
   "id": "e575a698",
   "metadata": {},
   "outputs": [
    {
     "data": {
      "text/plain": [
       "{'_id': '54e23c3e46ab53a440b580e8',\n",
       " 'index': 0,\n",
       " 'guid': '9962b468-ef3e-4993-b677-617469bc3008',\n",
       " 'isActive': False,\n",
       " 'balance': '$2,097.02',\n",
       " 'picture': 'http://placehold.it/32x32',\n",
       " 'age': 39,\n",
       " 'eyeColor': 'blue',\n",
       " 'name': 'Hebert Estes',\n",
       " 'gender': 'male',\n",
       " 'company': 'ANDRYX',\n",
       " 'email': 'hebertestes@andryx.com',\n",
       " 'phone': '+1 (866) 456-2268',\n",
       " 'address': '121 Emmons Avenue, Klondike, Kentucky, 5975',\n",
       " 'about': 'Sit cillum deserunt irure laboris tempor fugiat laboris. Amet commodo amet est incididunt. Dolore qui fugiat cillum pariatur dolore excepteur elit ipsum.\\r\\n',\n",
       " 'registered': '2014-11-10T01:44:03 +06:00',\n",
       " 'latitude': -80.157843,\n",
       " 'longitude': 161.93016,\n",
       " 'tags': ['sit', 'occaecat', 'non', 'ea', 'sit', 'laboris', 'exercitation'],\n",
       " 'friends': [{'id': 0, 'name': 'Tanisha Leonard'},\n",
       "  {'id': 1, 'name': 'Dennis Wilson'},\n",
       "  {'id': 2, 'name': 'Lupe Howe'}],\n",
       " 'greeting': 'Hello, Hebert Estes! You have 4 unread messages.',\n",
       " 'favoriteFruit': 'strawberry'}"
      ]
     },
     "execution_count": 263,
     "metadata": {},
     "output_type": "execute_result"
    }
   ],
   "source": [
    "profiles[0]"
   ]
  },
  {
   "cell_type": "code",
   "execution_count": 264,
   "id": "d91d7d58",
   "metadata": {},
   "outputs": [
    {
     "data": {
      "text/plain": [
       "['strawberry',\n",
       " 'apple',\n",
       " 'apple',\n",
       " 'banana',\n",
       " 'apple',\n",
       " 'apple',\n",
       " 'banana',\n",
       " 'strawberry',\n",
       " 'strawberry',\n",
       " 'banana',\n",
       " 'strawberry',\n",
       " 'strawberry',\n",
       " 'apple',\n",
       " 'strawberry',\n",
       " 'strawberry',\n",
       " 'banana',\n",
       " 'strawberry',\n",
       " 'apple',\n",
       " 'strawberry']"
      ]
     },
     "execution_count": 264,
     "metadata": {},
     "output_type": "execute_result"
    }
   ],
   "source": [
    "fruits = []\n",
    "\n",
    "for profile in profiles:\n",
    "    fruits.append(profile['favoriteFruit'])\n",
    "    \n",
    "fruits"
   ]
  },
  {
   "cell_type": "code",
   "execution_count": 265,
   "id": "01d2d551",
   "metadata": {},
   "outputs": [
    {
     "data": {
      "text/plain": [
       "{'apple', 'banana', 'strawberry'}"
      ]
     },
     "execution_count": 265,
     "metadata": {},
     "output_type": "execute_result"
    }
   ],
   "source": [
    "set(fruits)"
   ]
  },
  {
   "cell_type": "code",
   "execution_count": 266,
   "id": "e4aec405",
   "metadata": {},
   "outputs": [
    {
     "data": {
      "text/plain": [
       "6"
      ]
     },
     "execution_count": 266,
     "metadata": {},
     "output_type": "execute_result"
    }
   ],
   "source": [
    "fruits.count('apple')"
   ]
  },
  {
   "cell_type": "code",
   "execution_count": 267,
   "id": "b69ebe23",
   "metadata": {},
   "outputs": [
    {
     "data": {
      "text/plain": [
       "4"
      ]
     },
     "execution_count": 267,
     "metadata": {},
     "output_type": "execute_result"
    }
   ],
   "source": [
    "fruits.count('banana')"
   ]
  },
  {
   "cell_type": "code",
   "execution_count": 268,
   "id": "7b2fb81c",
   "metadata": {},
   "outputs": [
    {
     "data": {
      "text/plain": [
       "9"
      ]
     },
     "execution_count": 268,
     "metadata": {},
     "output_type": "execute_result"
    }
   ],
   "source": [
    "fruits.count('strawberry')"
   ]
  },
  {
   "cell_type": "code",
   "execution_count": 270,
   "id": "6483b7a1",
   "metadata": {},
   "outputs": [
    {
     "data": {
      "text/plain": [
       "'strawberry'"
      ]
     },
     "execution_count": 270,
     "metadata": {},
     "output_type": "execute_result"
    }
   ],
   "source": [
    "max(fruits, key=fruits.count)"
   ]
  },
  {
   "cell_type": "markdown",
   "id": "4c7beee0",
   "metadata": {},
   "source": [
    "#### Least most common favorite fruit"
   ]
  },
  {
   "cell_type": "code",
   "execution_count": 271,
   "id": "4f7b2abd",
   "metadata": {},
   "outputs": [
    {
     "data": {
      "text/plain": [
       "'apple'"
      ]
     },
     "execution_count": 271,
     "metadata": {},
     "output_type": "execute_result"
    }
   ],
   "source": [
    "min(fruits)"
   ]
  },
  {
   "cell_type": "markdown",
   "id": "205249c9",
   "metadata": {},
   "source": [
    "> this is incorrect cause there are only 4 bananas"
   ]
  },
  {
   "cell_type": "code",
   "execution_count": 272,
   "id": "30c673e8",
   "metadata": {},
   "outputs": [
    {
     "data": {
      "text/plain": [
       "'banana'"
      ]
     },
     "execution_count": 272,
     "metadata": {},
     "output_type": "execute_result"
    }
   ],
   "source": [
    "min(fruits, key=fruits.count)"
   ]
  },
  {
   "cell_type": "markdown",
   "id": "e86d1084",
   "metadata": {},
   "source": [
    "> the key argument in the max functions looks at the counts"
   ]
  },
  {
   "cell_type": "markdown",
   "id": "19edb176",
   "metadata": {},
   "source": [
    "#### Total number of unread messages for all users"
   ]
  },
  {
   "cell_type": "code",
   "execution_count": 273,
   "id": "2c58d0e5",
   "metadata": {},
   "outputs": [
    {
     "data": {
      "text/plain": [
       "{'_id': '54e23c3e46ab53a440b580e8',\n",
       " 'index': 0,\n",
       " 'guid': '9962b468-ef3e-4993-b677-617469bc3008',\n",
       " 'isActive': False,\n",
       " 'balance': '$2,097.02',\n",
       " 'picture': 'http://placehold.it/32x32',\n",
       " 'age': 39,\n",
       " 'eyeColor': 'blue',\n",
       " 'name': 'Hebert Estes',\n",
       " 'gender': 'male',\n",
       " 'company': 'ANDRYX',\n",
       " 'email': 'hebertestes@andryx.com',\n",
       " 'phone': '+1 (866) 456-2268',\n",
       " 'address': '121 Emmons Avenue, Klondike, Kentucky, 5975',\n",
       " 'about': 'Sit cillum deserunt irure laboris tempor fugiat laboris. Amet commodo amet est incididunt. Dolore qui fugiat cillum pariatur dolore excepteur elit ipsum.\\r\\n',\n",
       " 'registered': '2014-11-10T01:44:03 +06:00',\n",
       " 'latitude': -80.157843,\n",
       " 'longitude': 161.93016,\n",
       " 'tags': ['sit', 'occaecat', 'non', 'ea', 'sit', 'laboris', 'exercitation'],\n",
       " 'friends': [{'id': 0, 'name': 'Tanisha Leonard'},\n",
       "  {'id': 1, 'name': 'Dennis Wilson'},\n",
       "  {'id': 2, 'name': 'Lupe Howe'}],\n",
       " 'greeting': 'Hello, Hebert Estes! You have 4 unread messages.',\n",
       " 'favoriteFruit': 'strawberry'}"
      ]
     },
     "execution_count": 273,
     "metadata": {},
     "output_type": "execute_result"
    }
   ],
   "source": [
    "profiles[0]"
   ]
  },
  {
   "cell_type": "code",
   "execution_count": 276,
   "id": "7a59d0f9",
   "metadata": {},
   "outputs": [
    {
     "data": {
      "text/plain": [
       "210"
      ]
     },
     "execution_count": 276,
     "metadata": {},
     "output_type": "execute_result"
    }
   ],
   "source": [
    "total_unread = 0\n",
    "\n",
    "for profile in profiles:\n",
    "    message = profile['greeting']\n",
    "#     print(message)\n",
    "    message_ls = message.split(' ')\n",
    "#     print(message_ls)\n",
    "#     print()\n",
    "    for word in message_ls:\n",
    "#         print(word)\n",
    "        if word.isdigit():\n",
    "#             print('*******THIS IS A NUMBER*******')\n",
    "            total_unread += int(word)\n",
    "total_unread"
   ]
  },
  {
   "cell_type": "markdown",
   "id": "d65e1434",
   "metadata": {},
   "source": [
    "> all the print statements show how our variables are changing"
   ]
  },
  {
   "cell_type": "code",
   "execution_count": null,
   "id": "d98ff381",
   "metadata": {},
   "outputs": [],
   "source": []
  }
 ],
 "metadata": {
  "kernelspec": {
   "display_name": "Python 3 (ipykernel)",
   "language": "python",
   "name": "python3"
  },
  "language_info": {
   "codemirror_mode": {
    "name": "ipython",
    "version": 3
   },
   "file_extension": ".py",
   "mimetype": "text/x-python",
   "name": "python",
   "nbconvert_exporter": "python",
   "pygments_lexer": "ipython3",
   "version": "3.9.12"
  }
 },
 "nbformat": 4,
 "nbformat_minor": 5
}
