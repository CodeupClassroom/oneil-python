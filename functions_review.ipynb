{
 "cells": [
  {
   "cell_type": "markdown",
   "id": "fitting-reunion",
   "metadata": {},
   "source": [
    "# Functions Exercises"
   ]
  },
  {
   "cell_type": "code",
   "execution_count": null,
   "id": "a58e0c09",
   "metadata": {},
   "outputs": [],
   "source": [
    "# two true cases:"
   ]
  },
  {
   "cell_type": "code",
   "execution_count": 16,
   "id": "8d9221a9-005f-41f8-9d57-6055b62bbf23",
   "metadata": {},
   "outputs": [
    {
     "data": {
      "text/plain": [
       "True"
      ]
     },
     "execution_count": 16,
     "metadata": {},
     "output_type": "execute_result"
    }
   ],
   "source": [
    "type('blah') == str"
   ]
  },
  {
   "cell_type": "code",
   "execution_count": 24,
   "id": "wound-clarity",
   "metadata": {},
   "outputs": [],
   "source": [
    "# Exercise 1\n",
    "# Define a function named is_two. \n",
    "# It should accept one input and return True if \n",
    "# the passed input is either the number or the string 2, \n",
    "# False otherwise.\n",
    "# good cases: 2 or '2'\n",
    "# def is_two(num):\n",
    "#     if (num == 2) or (num == '2'):\n",
    "#         return True\n",
    "#     else:\n",
    "#         return False\n",
    "    \n",
    "def is_two(num):\n",
    "    return num == 2 or num == '2'\n",
    "\n",
    "# assert actual value == expected value\n",
    "assert is_two(2) == True\n",
    "assert is_two(2.0) == True\n",
    "assert is_two(\"2\") == True\n",
    "assert is_two(5) == False\n",
    "assert is_two(10) == False\n",
    "assert is_two(\"coffee\") == False"
   ]
  },
  {
   "cell_type": "code",
   "execution_count": 25,
   "id": "109403ed-78fc-4ca5-a999-fe940e7dd5ba",
   "metadata": {},
   "outputs": [
    {
     "data": {
      "text/plain": [
       "True"
      ]
     },
     "execution_count": 25,
     "metadata": {},
     "output_type": "execute_result"
    }
   ],
   "source": [
    "4 in [1,2,3,4]"
   ]
  },
  {
   "cell_type": "code",
   "execution_count": 26,
   "id": "401a0fdf-1bc7-418b-98e4-468d50fcf963",
   "metadata": {},
   "outputs": [
    {
     "data": {
      "text/plain": [
       "True"
      ]
     },
     "execution_count": 26,
     "metadata": {},
     "output_type": "execute_result"
    }
   ],
   "source": [
    "'a' in ['a','b','c']"
   ]
  },
  {
   "cell_type": "code",
   "execution_count": 27,
   "id": "009bf674-6fcd-4a76-8fe6-c0c86c05c8d5",
   "metadata": {},
   "outputs": [
    {
     "data": {
      "text/plain": [
       "True"
      ]
     },
     "execution_count": 27,
     "metadata": {},
     "output_type": "execute_result"
    }
   ],
   "source": [
    "'a' in 'abc'"
   ]
  },
  {
   "cell_type": "code",
   "execution_count": null,
   "id": "e2d7c838-5e1d-4a2a-b6c9-f2171aedc0f1",
   "metadata": {},
   "outputs": [],
   "source": [
    "if type(my_let) == str\n",
    "len(my_let) == 1"
   ]
  },
  {
   "cell_type": "code",
   "execution_count": 40,
   "id": "0b30356f",
   "metadata": {},
   "outputs": [],
   "source": [
    "# Exercise 2\n",
    "# Define a function named is_vowel. \n",
    "# It should return True if the passed string is a vowel, \n",
    "# False otherwise.\n",
    "def is_vowel(my_let):\n",
    "    if type(my_let) == str:\n",
    "        if len(my_let) == 1:\n",
    "            return my_let.lower() in list('aeiou')\n",
    "        else:\n",
    "            return False\n",
    "    else:\n",
    "        return False"
   ]
  },
  {
   "cell_type": "code",
   "execution_count": 42,
   "id": "fitting-hotel",
   "metadata": {},
   "outputs": [],
   "source": [
    "assert is_vowel(\"A\") == True\n",
    "assert is_vowel(\"E\") == True\n",
    "assert is_vowel(\"I\") == True\n",
    "assert is_vowel(\"O\") == True\n",
    "assert is_vowel(\"y\") == False\n",
    "assert is_vowel(\"aeiou\") == False # since the entire string aint a vowel\n",
    "assert is_vowel(\"p\") == False\n",
    "assert is_vowel([1, 2, 3]) == False\n",
    "assert is_vowel(2) == False"
   ]
  },
  {
   "cell_type": "code",
   "execution_count": 45,
   "id": "4c460207",
   "metadata": {},
   "outputs": [],
   "source": [
    "# Exercise 3\n",
    "# Define a function named is_consonant.\n",
    "# It should return True if the passed string is a consonant, \n",
    "# False otherwise. Use your is_vowel function to accomplish this.\n",
    "def is_consonant(my_let):\n",
    "    if type(my_let) == str:\n",
    "        if len(my_let) == 1 and not is_vowel(my_let) and my_let.isalpha():\n",
    "            return True\n",
    "        else:\n",
    "            return False\n",
    "    else:\n",
    "        return False\n",
    "\n",
    "# seen previously: isdigit()"
   ]
  },
  {
   "cell_type": "code",
   "execution_count": 46,
   "id": "affecting-repair",
   "metadata": {},
   "outputs": [],
   "source": [
    "assert is_consonant(\"B\") == True\n",
    "assert is_consonant(\"y\") == True\n",
    "assert is_consonant(\"A\") == False\n",
    "assert is_consonant(\"E\") == False\n",
    "assert is_consonant(\"I\") == False\n",
    "assert is_consonant(\"O\") == False\n",
    "assert is_consonant(\"1\") == False\n",
    "assert is_consonant(\"2\") == False\n",
    "assert is_consonant(\"*\") == False\n",
    "assert is_consonant(\"+\") == False\n",
    "assert is_consonant([3, 4]) == False"
   ]
  },
  {
   "cell_type": "code",
   "execution_count": 48,
   "id": "5edc7e55-c1ca-4e40-a517-3c1f644213b2",
   "metadata": {},
   "outputs": [
    {
     "data": {
      "text/plain": [
       "'S'"
      ]
     },
     "execution_count": 48,
     "metadata": {},
     "output_type": "execute_result"
    }
   ],
   "source": [
    "'someWord'.capitalize()"
   ]
  },
  {
   "cell_type": "code",
   "execution_count": 49,
   "id": "37c770c9-83c6-4d8a-935c-da09e6124012",
   "metadata": {},
   "outputs": [],
   "source": [
    "# Exercise 4\n",
    "# Define a function that accepts a string that is a word. \n",
    "# The function should capitalize the \n",
    "# first letter of the word if the word starts with a consonant.\n",
    "\n",
    "def capitalize_starting_consonant(some_word):\n",
    "    if is_consonant(some_word[0]):\n",
    "        return some_word.capitalize()\n",
    "    else:\n",
    "        return some_word"
   ]
  },
  {
   "cell_type": "code",
   "execution_count": 50,
   "id": "60ff9b32-888a-43b1-af15-3b530805f629",
   "metadata": {},
   "outputs": [],
   "source": [
    "assert capitalize_starting_consonant(\"coffee\") == \"Coffee\"\n",
    "assert capitalize_starting_consonant(\"another string\") == \"another string\""
   ]
  },
  {
   "cell_type": "code",
   "execution_count": 51,
   "id": "whole-forum",
   "metadata": {},
   "outputs": [],
   "source": [
    "# Exercise 5\n",
    "# Define a function named calculate_tip. \n",
    "# It should accept a tip percentage \n",
    "# (a number between 0 and 1) and the bill total, \n",
    "# and return the amount to tip.\n",
    "def calculate_tip(my_bill, my_tip=.2):\n",
    "    return my_bill * my_tip\n",
    "    \n",
    "assert calculate_tip(100.00) == 20\n",
    "assert calculate_tip(100.00, .3) == 30"
   ]
  },
  {
   "cell_type": "code",
   "execution_count": 52,
   "id": "expected-conspiracy",
   "metadata": {},
   "outputs": [],
   "source": [
    "# Exercise 6\n",
    "# Define a function named apply_discount. \n",
    "# It should accept a original price, and a discount percentage, \n",
    "# and return the price after the discount is applied.\n",
    "def apply_discount(orig_price, disc_prcnt=0):\n",
    "    discount_value = orig_price * disc_prcnt\n",
    "    new_price = orig_price - discount_value\n",
    "    return new_price\n",
    "\n",
    "assert apply_discount(20, .5) == 10"
   ]
  },
  {
   "cell_type": "code",
   "execution_count": 53,
   "id": "796793a1-f575-4730-8f2f-545431e9b5d0",
   "metadata": {},
   "outputs": [],
   "source": [
    "my_20_p_discount = lambda x: x - (x*.2)"
   ]
  },
  {
   "cell_type": "code",
   "execution_count": 54,
   "id": "11df3059-ed0e-4f36-a79d-254ad5508b78",
   "metadata": {},
   "outputs": [
    {
     "data": {
      "text/plain": [
       "36.0"
      ]
     },
     "execution_count": 54,
     "metadata": {},
     "output_type": "execute_result"
    }
   ],
   "source": [
    "my_20_p_discount(45)"
   ]
  },
  {
   "cell_type": "code",
   "execution_count": null,
   "id": "260b62c8-4fac-47c3-8563-19b77dca5fc9",
   "metadata": {},
   "outputs": [],
   "source": [
    "# Exercise 7\n",
    "# Define a function named handle_commas. \n",
    "# It should accept a string that is a number that contains \n",
    "# commas in it as input, \n",
    "# and return a number as output.\n",
    " "
   ]
  },
  {
   "cell_type": "code",
   "execution_count": 66,
   "id": "7f2bcec3-8167-43e5-b653-45f9a38166ef",
   "metadata": {},
   "outputs": [],
   "source": [
    "# int('1,000,000')"
   ]
  },
  {
   "cell_type": "code",
   "execution_count": 57,
   "id": "06b4f09c-7fe1-4c70-bbb6-a9743c4c10a6",
   "metadata": {},
   "outputs": [],
   "source": [
    "my_num = '200,000,000'"
   ]
  },
  {
   "cell_type": "code",
   "execution_count": 65,
   "id": "48645635-0e0b-47f7-a423-b04c28fe8a6a",
   "metadata": {},
   "outputs": [],
   "source": [
    "# 'ham' - 'am'"
   ]
  },
  {
   "cell_type": "code",
   "execution_count": 58,
   "id": "6bc56e08-362f-4ab9-a14c-315d4cb241a4",
   "metadata": {},
   "outputs": [],
   "source": [
    "my_new_num = ''\n",
    "for digit in my_num:\n",
    "    if digit == ',':\n",
    "        continue\n",
    "    if digit == '.':\n",
    "        break\n",
    "    else:\n",
    "        my_new_num += digit"
   ]
  },
  {
   "cell_type": "code",
   "execution_count": 59,
   "id": "0b8b6a57-dcfd-410e-aa6a-d297c88446ed",
   "metadata": {},
   "outputs": [
    {
     "data": {
      "text/plain": [
       "'200000000'"
      ]
     },
     "execution_count": 59,
     "metadata": {},
     "output_type": "execute_result"
    }
   ],
   "source": [
    "my_new_num"
   ]
  },
  {
   "cell_type": "code",
   "execution_count": 60,
   "id": "e9509ffc-088e-49c9-957a-d8161da8c3b4",
   "metadata": {},
   "outputs": [
    {
     "data": {
      "text/plain": [
       "'2000000'"
      ]
     },
     "execution_count": 60,
     "metadata": {},
     "output_type": "execute_result"
    }
   ],
   "source": [
    "'2,000,000'.replace(',','')"
   ]
  },
  {
   "cell_type": "code",
   "execution_count": 61,
   "id": "73066967-db2a-4ca4-bb27-34c019b6f28b",
   "metadata": {},
   "outputs": [],
   "source": [
    "#  a string that is a number: '1,000,000'  \n",
    "# I want it to return a number val that looks like 1000000\n",
    "# treat the string like a string, remove the commas\n",
    "# Then turn it into a number\n",
    "def handle_commas(my_string_num):\n",
    "    my_new_num = my_string_num.replace(',','')\n",
    "    return int(my_new_num)"
   ]
  },
  {
   "cell_type": "code",
   "execution_count": 67,
   "id": "eab85043-4110-4399-9c3d-a0f8513fc9ef",
   "metadata": {},
   "outputs": [],
   "source": [
    "assert handle_commas(\"1,234\") == 1234\n",
    "assert handle_commas(\"1,234,456\") == 1234456\n",
    "assert handle_commas(\"1,234,456\") == 1234456"
   ]
  },
  {
   "cell_type": "code",
   "execution_count": 68,
   "id": "finished-perfume",
   "metadata": {},
   "outputs": [],
   "source": [
    "# Exercise 8\n",
    "# Define a function named get_letter_grade. \n",
    "# It should accept a number and return the letter grade \n",
    "# associated with that number (A-F).\n",
    "\n",
    "# assumptions:\n",
    "# The user will input some number, we will return a single string\n",
    "def get_letter_grade(my_num_grade):\n",
    "    if my_num_grade >= 90:\n",
    "        return 'A'\n",
    "    elif my_num_grade >= 80:\n",
    "        return 'B'\n",
    "    elif my_num_grade >= 70:\n",
    "        return 'C'\n",
    "    else:\n",
    "        return 'F'\n",
    "\n",
    "\n",
    "\n",
    "assert get_letter_grade(100) == \"A\"\n",
    "assert get_letter_grade(75) == \"C\""
   ]
  },
  {
   "cell_type": "code",
   "execution_count": null,
   "id": "wicked-cleveland",
   "metadata": {},
   "outputs": [],
   "source": [
    "# if some condition:\n",
    "# else:\n",
    "#     if some_second_condition\n",
    "\n",
    "#     ==\n",
    "    \n",
    "# if some condition\n",
    "# elif some_second_condition"
   ]
  },
  {
   "cell_type": "code",
   "execution_count": null,
   "id": "a895415e-a6f8-455e-bcb3-1ca22ede744b",
   "metadata": {},
   "outputs": [],
   "source": [
    "# Exercise 9\n",
    "# Define a function named remove_vowels that accepts a \n",
    "# string and returns a string with all the vowels removed."
   ]
  },
  {
   "cell_type": "code",
   "execution_count": 69,
   "id": "e37ce187-09ee-456a-986d-34c61ee19206",
   "metadata": {},
   "outputs": [],
   "source": [
    "some_stuff = 'some string with vowels probably'"
   ]
  },
  {
   "cell_type": "code",
   "execution_count": 75,
   "id": "51f80dae-a18c-413b-ad82-2ede73282a10",
   "metadata": {},
   "outputs": [],
   "source": [
    "some_stuff += 'u'"
   ]
  },
  {
   "cell_type": "code",
   "execution_count": 76,
   "id": "e8800fb7-2444-4166-89dc-cf97debe772d",
   "metadata": {},
   "outputs": [
    {
     "data": {
      "text/plain": [
       "'some string with vowels probablyu'"
      ]
     },
     "execution_count": 76,
     "metadata": {},
     "output_type": "execute_result"
    }
   ],
   "source": [
    "some_stuff"
   ]
  },
  {
   "cell_type": "code",
   "execution_count": 77,
   "id": "ce7947b3-d5f4-4921-88d1-7ab92ac603a4",
   "metadata": {},
   "outputs": [],
   "source": [
    "# initialize no_vowels as an empty string\n",
    "no_vowels = ''\n",
    "# for every n in some_stuff\n",
    "for n in some_stuff:\n",
    "    #check if that thing (letter) is a vowel\n",
    "    if is_vowel(n):\n",
    "        #if it is, we dont want it\n",
    "        continue\n",
    "    else:\n",
    "        # keep it!\n",
    "        no_vowels += n"
   ]
  },
  {
   "cell_type": "code",
   "execution_count": 78,
   "id": "5dd39bd4-f622-413f-9fdb-a55097860374",
   "metadata": {},
   "outputs": [
    {
     "data": {
      "text/plain": [
       "'sm strng wth vwls prbbly'"
      ]
     },
     "execution_count": 78,
     "metadata": {},
     "output_type": "execute_result"
    }
   ],
   "source": [
    "no_vowels"
   ]
  },
  {
   "cell_type": "code",
   "execution_count": 79,
   "id": "38d73a7e-5eb8-4486-86d2-d9ca0c43f4ab",
   "metadata": {},
   "outputs": [],
   "source": [
    "def remove_vowels(some_stuff):\n",
    "    # initialize no_vowels as an empty string\n",
    "    no_vowels = ''\n",
    "    # for every n in some_stuff\n",
    "    for n in some_stuff:\n",
    "        #check if that thing (letter) is a vowel\n",
    "        if is_vowel(n):\n",
    "            #if it is, we dont want it\n",
    "            continue\n",
    "        else:\n",
    "            # keep it!\n",
    "            no_vowels += n\n",
    "    return no_vowels\n",
    "    \n",
    "assert remove_vowels(\"banana\") == \"bnn\"\n",
    "assert remove_vowels(\"coffee\") == \"cff\""
   ]
  },
  {
   "cell_type": "code",
   "execution_count": null,
   "id": "a96ba711",
   "metadata": {},
   "outputs": [],
   "source": [
    "# Exercise 9 funsies\n",
    "# Define a function named remove_vowels that accepts a \n",
    "# string and returns a string with all the vowels removed.\n",
    "def remove_vowels(vowel_word):\n",
    "    new_string = []\n",
    "    [new_string.append(letter) for letter in vowel_word if not is_vowel(letter)]\n",
    "    return ''.join(new_string)\n",
    "    "
   ]
  },
  {
   "cell_type": "code",
   "execution_count": null,
   "id": "2f74a5d8",
   "metadata": {},
   "outputs": [],
   "source": [
    "# new string method just dropped: join"
   ]
  },
  {
   "cell_type": "code",
   "execution_count": 80,
   "id": "6cfdf527-729e-4701-ad2d-aa625f323dc7",
   "metadata": {},
   "outputs": [
    {
     "data": {
      "text/plain": [
       "['h', 'a', 'm']"
      ]
     },
     "execution_count": 80,
     "metadata": {},
     "output_type": "execute_result"
    }
   ],
   "source": [
    "['h', 'a', 'm']"
   ]
  },
  {
   "cell_type": "code",
   "execution_count": 81,
   "id": "cff4f2d2-dace-4328-ad09-1c0287143eb4",
   "metadata": {},
   "outputs": [
    {
     "data": {
      "text/plain": [
       "\"['h', 'a', 'm']\""
      ]
     },
     "execution_count": 81,
     "metadata": {},
     "output_type": "execute_result"
    }
   ],
   "source": [
    "str(['h', 'a', 'm'])"
   ]
  },
  {
   "cell_type": "code",
   "execution_count": 83,
   "id": "28aea7c6-e1d8-41ac-b361-6a12f21419ed",
   "metadata": {},
   "outputs": [
    {
     "data": {
      "text/plain": [
       "'ham'"
      ]
     },
     "execution_count": 83,
     "metadata": {},
     "output_type": "execute_result"
    }
   ],
   "source": [
    "''.join(['h', 'a', 'm'])"
   ]
  },
  {
   "cell_type": "code",
   "execution_count": null,
   "id": "7c6b52fe",
   "metadata": {
    "scrolled": true
   },
   "outputs": [],
   "source": [
    "   \n",
    "assert remove_vowels(\"banana\") == \"bnn\"\n",
    "assert remove_vowels(\"coffee\") == \"cff\""
   ]
  },
  {
   "cell_type": "code",
   "execution_count": 101,
   "id": "c8be4431",
   "metadata": {
    "tags": []
   },
   "outputs": [],
   "source": [
    "# Exercise 10\n",
    "# Define a function named normalize_name. \n",
    "# It should accept a string and return a valid python identifier\n",
    "# steps I want to take\n",
    "# make lowercase,\n",
    "# string method: .lower()\n",
    "# remove whitespace, \n",
    "# string method: .strip()\n",
    "# establish valid identifier\n",
    "# in 'abcdefghijklmnopqrstuvwxyz1234567890'\n",
    "# cheat: 'abcdefg'.isidentifier()\n",
    "def normalize_name(my_var):\n",
    "    my_new_var = ''\n",
    "    for let in my_var:\n",
    "        if let.isdigit() or let.isalpha() or let == ' ':\n",
    "            my_new_var += let\n",
    "    return my_new_var.strip().lower().replace(' ','_')\n",
    "    "
   ]
  },
  {
   "cell_type": "code",
   "execution_count": 103,
   "id": "seasonal-builder",
   "metadata": {
    "tags": []
   },
   "outputs": [],
   "source": [
    "assert normalize_name(\"First Name\") == \"first_name\"\n",
    "assert normalize_name(\"% Completed\") == \"completed\"\n",
    "assert normalize_name(\" sum of squares \") == \"sum_of_squares\""
   ]
  },
  {
   "cell_type": "code",
   "execution_count": null,
   "id": "02951374",
   "metadata": {},
   "outputs": [],
   "source": []
  },
  {
   "cell_type": "code",
   "execution_count": 88,
   "id": "19f21ae1",
   "metadata": {},
   "outputs": [],
   "source": [
    "# Exercise 11\n",
    "# Write a function named cumulative_sum that accepts a list of numbers and returns a list \n",
    "# that is the cumulative sum of the numbers in the list.\n",
    "# cumulative_sum([1, 1, 1]) returns [1, 2, 3]\n",
    "# cumulative_sum([1, 2, 3, 4]) returns [1, 3, 6, 10]\n",
    "def cumulative_sum(some_list):\n",
    "    counting_sum = 0\n",
    "    new_list = []\n",
    "    for i in some_list:\n",
    "        counting_sum += i\n",
    "        new_list.append(counting_sum)\n",
    "    return new_list\n",
    "\n",
    "    \n",
    "assert cumulative_sum([1, 2, 3, 4]) == [1, 3, 6, 10]"
   ]
  },
  {
   "cell_type": "code",
   "execution_count": 89,
   "id": "solar-wayne",
   "metadata": {},
   "outputs": [],
   "source": [
    "assert cumulative_sum([1, 1, 1, 1]) == [1, 2, 3, 4]"
   ]
  },
  {
   "cell_type": "code",
   "execution_count": null,
   "id": "ba9d9a84-41dc-49d2-a08c-49dfbf949436",
   "metadata": {},
   "outputs": [],
   "source": []
  }
 ],
 "metadata": {
  "kernelspec": {
   "display_name": "Python 3",
   "language": "python",
   "name": "python3"
  },
  "language_info": {
   "codemirror_mode": {
    "name": "ipython",
    "version": 3
   },
   "file_extension": ".py",
   "mimetype": "text/x-python",
   "name": "python",
   "nbconvert_exporter": "python",
   "pygments_lexer": "ipython3",
   "version": "3.9.4"
  }
 },
 "nbformat": 4,
 "nbformat_minor": 5
}
