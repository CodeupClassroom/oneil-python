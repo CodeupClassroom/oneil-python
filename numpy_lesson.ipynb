{
 "cells": [
  {
   "cell_type": "markdown",
   "id": "7b7b1f0a",
   "metadata": {},
   "source": [
    "# Numpy"
   ]
  },
  {
   "cell_type": "markdown",
   "id": "55a9908c",
   "metadata": {},
   "source": [
    "https://numpy.org/"
   ]
  },
  {
   "cell_type": "markdown",
   "id": "440bda83",
   "metadata": {},
   "source": [
    "## What is it? \n",
    "- Numpy is a Python library used for working with arrays\n",
    "- Numpy is the fundamental package for scientific computing in Python\n",
    "\n",
    "\n",
    "## Why do we care? \n",
    "- Numpy is one of the main reasons why Python is so powerful and popular for scientific computing\n",
    "- Super fast. Numpy arrays are implemented in C, which makes numpy very fast.\n",
    "- The arrays allows for vectorized operations"
   ]
  },
  {
   "cell_type": "markdown",
   "id": "03c48268",
   "metadata": {},
   "source": [
    "## Show us! "
   ]
  },
  {
   "cell_type": "markdown",
   "id": "9038f254",
   "metadata": {},
   "source": [
    "### Create a 1D array"
   ]
  },
  {
   "cell_type": "markdown",
   "id": "d0f99731",
   "metadata": {},
   "source": [
    "#### create a list\n",
    "format: list()"
   ]
  },
  {
   "cell_type": "code",
   "execution_count": 437,
   "id": "f15cdc69",
   "metadata": {},
   "outputs": [],
   "source": [
    "#create a list\n"
   ]
  },
  {
   "cell_type": "code",
   "execution_count": 438,
   "id": "74149412",
   "metadata": {},
   "outputs": [],
   "source": [
    "#whats the type\n"
   ]
  },
  {
   "cell_type": "code",
   "execution_count": 459,
   "id": "04eaae7c",
   "metadata": {},
   "outputs": [],
   "source": [
    "#what is dtype\n"
   ]
  },
  {
   "cell_type": "code",
   "execution_count": 460,
   "id": "597fa063",
   "metadata": {},
   "outputs": [],
   "source": [
    "#whats the shape\n"
   ]
  },
  {
   "cell_type": "markdown",
   "id": "778135e3",
   "metadata": {},
   "source": [
    "#### create an array\n",
    "format: np.array()"
   ]
  },
  {
   "cell_type": "code",
   "execution_count": 461,
   "id": "3d729e6a",
   "metadata": {},
   "outputs": [],
   "source": [
    "#import numpy\n"
   ]
  },
  {
   "cell_type": "code",
   "execution_count": 462,
   "id": "6db8179d",
   "metadata": {},
   "outputs": [],
   "source": [
    "#create the array\n"
   ]
  },
  {
   "cell_type": "code",
   "execution_count": 463,
   "id": "450160cd",
   "metadata": {},
   "outputs": [],
   "source": [
    "#whats the type\n"
   ]
  },
  {
   "cell_type": "code",
   "execution_count": 464,
   "id": "df625332",
   "metadata": {},
   "outputs": [],
   "source": [
    "#whats the shape\n"
   ]
  },
  {
   "cell_type": "markdown",
   "id": "cf4bf9dd",
   "metadata": {},
   "source": [
    "#### access elements of our new array"
   ]
  },
  {
   "cell_type": "code",
   "execution_count": null,
   "id": "39cadfdc",
   "metadata": {},
   "outputs": [],
   "source": []
  },
  {
   "cell_type": "code",
   "execution_count": null,
   "id": "cb3fe38c",
   "metadata": {},
   "outputs": [],
   "source": []
  },
  {
   "cell_type": "code",
   "execution_count": null,
   "id": "49805962",
   "metadata": {},
   "outputs": [],
   "source": []
  },
  {
   "cell_type": "markdown",
   "id": "9cad9417",
   "metadata": {},
   "source": [
    "#### slice the array"
   ]
  },
  {
   "cell_type": "code",
   "execution_count": null,
   "id": "69ed99ed",
   "metadata": {},
   "outputs": [],
   "source": []
  },
  {
   "cell_type": "code",
   "execution_count": null,
   "id": "848128b8",
   "metadata": {},
   "outputs": [],
   "source": []
  },
  {
   "cell_type": "code",
   "execution_count": null,
   "id": "91fb45bc",
   "metadata": {},
   "outputs": [],
   "source": []
  },
  {
   "cell_type": "markdown",
   "id": "4e8e8e73",
   "metadata": {},
   "source": [
    "#### create an array from 1 to 100"
   ]
  },
  {
   "cell_type": "code",
   "execution_count": 465,
   "id": "ae0d8f6f",
   "metadata": {},
   "outputs": [],
   "source": [
    "#np.array(?)\n"
   ]
  },
  {
   "cell_type": "code",
   "execution_count": 466,
   "id": "2699c6a4",
   "metadata": {},
   "outputs": [],
   "source": [
    "#access single element\n"
   ]
  },
  {
   "cell_type": "code",
   "execution_count": 467,
   "id": "5f8d7c71",
   "metadata": {},
   "outputs": [],
   "source": [
    "#slice the array! \n"
   ]
  },
  {
   "cell_type": "markdown",
   "id": "9dadb768",
   "metadata": {},
   "source": [
    "### Create a 2D array"
   ]
  },
  {
   "cell_type": "code",
   "execution_count": 468,
   "id": "4cfd2e1c",
   "metadata": {},
   "outputs": [],
   "source": [
    "#build a list of lists\n"
   ]
  },
  {
   "cell_type": "code",
   "execution_count": null,
   "id": "f89755f1",
   "metadata": {},
   "outputs": [],
   "source": []
  },
  {
   "cell_type": "code",
   "execution_count": 469,
   "id": "dad05056",
   "metadata": {},
   "outputs": [],
   "source": [
    "#turn it into an array! \n"
   ]
  },
  {
   "cell_type": "code",
   "execution_count": 473,
   "id": "aed9eab5",
   "metadata": {},
   "outputs": [],
   "source": [
    "#type\n"
   ]
  },
  {
   "cell_type": "markdown",
   "id": "94098dd1",
   "metadata": {},
   "source": [
    "#### access elements"
   ]
  },
  {
   "cell_type": "code",
   "execution_count": null,
   "id": "0893d321",
   "metadata": {},
   "outputs": [],
   "source": []
  },
  {
   "cell_type": "code",
   "execution_count": null,
   "id": "fc8200c4",
   "metadata": {},
   "outputs": [],
   "source": []
  },
  {
   "cell_type": "code",
   "execution_count": null,
   "id": "ab6b7915",
   "metadata": {},
   "outputs": [],
   "source": []
  },
  {
   "cell_type": "markdown",
   "id": "60757d69",
   "metadata": {},
   "source": [
    "### Descriptive Stats"
   ]
  },
  {
   "cell_type": "code",
   "execution_count": null,
   "id": "502f7cb5",
   "metadata": {},
   "outputs": [],
   "source": []
  },
  {
   "cell_type": "markdown",
   "id": "a094e496",
   "metadata": {},
   "source": [
    "#### using methods: the method is called on the numpy object"
   ]
  },
  {
   "cell_type": "code",
   "execution_count": null,
   "id": "d464bd47",
   "metadata": {},
   "outputs": [],
   "source": []
  },
  {
   "cell_type": "code",
   "execution_count": null,
   "id": "150e1494",
   "metadata": {},
   "outputs": [],
   "source": []
  },
  {
   "cell_type": "code",
   "execution_count": null,
   "id": "afe12429",
   "metadata": {},
   "outputs": [],
   "source": []
  },
  {
   "cell_type": "markdown",
   "id": "6d77326c",
   "metadata": {},
   "source": [
    "#### using functions: using numpy to call functions"
   ]
  },
  {
   "cell_type": "code",
   "execution_count": 213,
   "id": "3146004d",
   "metadata": {},
   "outputs": [
    {
     "data": {
      "text/plain": [
       "100"
      ]
     },
     "execution_count": 213,
     "metadata": {},
     "output_type": "execute_result"
    }
   ],
   "source": [
    "np.max(a)"
   ]
  },
  {
   "cell_type": "code",
   "execution_count": 214,
   "id": "b2e69ed5",
   "metadata": {},
   "outputs": [
    {
     "data": {
      "text/plain": [
       "28.86607004772212"
      ]
     },
     "execution_count": 214,
     "metadata": {},
     "output_type": "execute_result"
    }
   ],
   "source": [
    "np.std(a)"
   ]
  },
  {
   "cell_type": "code",
   "execution_count": 215,
   "id": "d022f074",
   "metadata": {},
   "outputs": [
    {
     "data": {
      "text/plain": [
       "50.5"
      ]
     },
     "execution_count": 215,
     "metadata": {},
     "output_type": "execute_result"
    }
   ],
   "source": [
    "np.mean(a)"
   ]
  },
  {
   "cell_type": "code",
   "execution_count": 216,
   "id": "921e3e98",
   "metadata": {},
   "outputs": [
    {
     "data": {
      "text/plain": [
       "5050"
      ]
     },
     "execution_count": 216,
     "metadata": {},
     "output_type": "execute_result"
    }
   ],
   "source": [
    "np.sum(a)"
   ]
  },
  {
   "cell_type": "code",
   "execution_count": null,
   "id": "13833340",
   "metadata": {},
   "outputs": [],
   "source": []
  },
  {
   "cell_type": "code",
   "execution_count": null,
   "id": "fb89f3b2",
   "metadata": {},
   "outputs": [],
   "source": []
  },
  {
   "cell_type": "code",
   "execution_count": null,
   "id": "4598fc0b",
   "metadata": {},
   "outputs": [],
   "source": []
  },
  {
   "cell_type": "markdown",
   "id": "4a2246aa",
   "metadata": {},
   "source": [
    "### Array of Booleans! "
   ]
  },
  {
   "cell_type": "markdown",
   "id": "9fdc082a",
   "metadata": {},
   "source": [
    "### Boolean Masks"
   ]
  },
  {
   "cell_type": "markdown",
   "id": "e786d45e",
   "metadata": {},
   "source": [
    "1. create an array\n",
    "2. make a list of booleans (mask)\n",
    "3. combine\n",
    "\n",
    "    format: array [ list of booleans ] "
   ]
  },
  {
   "cell_type": "code",
   "execution_count": 474,
   "id": "94edffd1",
   "metadata": {},
   "outputs": [],
   "source": [
    "#pull back our small array\n"
   ]
  },
  {
   "cell_type": "code",
   "execution_count": 475,
   "id": "bd64c3b8",
   "metadata": {},
   "outputs": [],
   "source": [
    "#make list of booleans aka our mask\n"
   ]
  },
  {
   "cell_type": "code",
   "execution_count": 482,
   "id": "3afba1d2",
   "metadata": {},
   "outputs": [],
   "source": [
    "#combine them \n"
   ]
  },
  {
   "cell_type": "markdown",
   "id": "ad2e4168",
   "metadata": {},
   "source": [
    "#### how else can we get our array of boolean values?"
   ]
  },
  {
   "cell_type": "code",
   "execution_count": null,
   "id": "29ddfe04",
   "metadata": {},
   "outputs": [],
   "source": []
  },
  {
   "cell_type": "code",
   "execution_count": 484,
   "id": "58cba511",
   "metadata": {},
   "outputs": [],
   "source": [
    "#write a conditional with the array\n"
   ]
  },
  {
   "cell_type": "markdown",
   "id": "f1851d3b",
   "metadata": {},
   "source": [
    "#### make and apply our boolean mask"
   ]
  },
  {
   "cell_type": "code",
   "execution_count": 231,
   "id": "8b5b5d94",
   "metadata": {},
   "outputs": [
    {
     "data": {
      "text/plain": [
       "array([False, False, False,  True, False])"
      ]
     },
     "execution_count": 231,
     "metadata": {},
     "output_type": "execute_result"
    }
   ],
   "source": []
  },
  {
   "cell_type": "code",
   "execution_count": 485,
   "id": "d80cf9be",
   "metadata": {},
   "outputs": [],
   "source": [
    "#format: array_name [ list_of_booleans ]\n"
   ]
  },
  {
   "cell_type": "code",
   "execution_count": null,
   "id": "2c26d11f",
   "metadata": {},
   "outputs": [],
   "source": []
  },
  {
   "cell_type": "code",
   "execution_count": null,
   "id": "1c5932ff",
   "metadata": {},
   "outputs": [],
   "source": []
  },
  {
   "cell_type": "markdown",
   "id": "4805d484",
   "metadata": {},
   "source": [
    "#### cool! can we just do it with a list instead of an array?"
   ]
  },
  {
   "cell_type": "code",
   "execution_count": 486,
   "id": "b65d82b5",
   "metadata": {},
   "outputs": [],
   "source": [
    "#pull back our initial list\n"
   ]
  },
  {
   "cell_type": "code",
   "execution_count": 487,
   "id": "e6a379e7",
   "metadata": {},
   "outputs": [],
   "source": [
    "#create a array of booleans\n"
   ]
  },
  {
   "cell_type": "code",
   "execution_count": 488,
   "id": "bc6ac5fc",
   "metadata": {},
   "outputs": [],
   "source": [
    "#apply an array of booleans to a list\n"
   ]
  },
  {
   "cell_type": "markdown",
   "id": "cd1f7110",
   "metadata": {},
   "source": [
    "#### let's bring it back to arrays and make them bigger"
   ]
  },
  {
   "cell_type": "code",
   "execution_count": 489,
   "id": "de0909a1",
   "metadata": {},
   "outputs": [],
   "source": [
    "#array\n"
   ]
  },
  {
   "cell_type": "code",
   "execution_count": 490,
   "id": "9cb7e08d",
   "metadata": {},
   "outputs": [],
   "source": [
    "#mask\n"
   ]
  },
  {
   "cell_type": "code",
   "execution_count": 491,
   "id": "1ef146a4",
   "metadata": {},
   "outputs": [],
   "source": [
    "#boolean mask\n"
   ]
  },
  {
   "cell_type": "markdown",
   "id": "e3050b98",
   "metadata": {},
   "source": [
    "#### shortcut?"
   ]
  },
  {
   "cell_type": "code",
   "execution_count": null,
   "id": "015bdcc5",
   "metadata": {},
   "outputs": [],
   "source": []
  },
  {
   "cell_type": "code",
   "execution_count": null,
   "id": "1599616a",
   "metadata": {},
   "outputs": [],
   "source": []
  },
  {
   "cell_type": "markdown",
   "id": "d64aa50b",
   "metadata": {},
   "source": [
    "#### what if we wanted to check two conditions?"
   ]
  },
  {
   "cell_type": "code",
   "execution_count": 492,
   "id": "462d2571",
   "metadata": {},
   "outputs": [],
   "source": [
    "# note the parenthesis\n",
    "# also note that we're using & instead of and\n"
   ]
  },
  {
   "cell_type": "code",
   "execution_count": null,
   "id": "112c086e",
   "metadata": {},
   "outputs": [],
   "source": []
  },
  {
   "cell_type": "code",
   "execution_count": null,
   "id": "675dad0d",
   "metadata": {},
   "outputs": [],
   "source": []
  },
  {
   "cell_type": "markdown",
   "id": "38b59f1e",
   "metadata": {},
   "source": [
    "#### what if we wanted the opposite of our mask?"
   ]
  },
  {
   "cell_type": "code",
   "execution_count": null,
   "id": "ce8d8633",
   "metadata": {},
   "outputs": [],
   "source": []
  },
  {
   "cell_type": "code",
   "execution_count": 493,
   "id": "127e6506",
   "metadata": {},
   "outputs": [],
   "source": [
    "# the ~ notates the opposite of\n"
   ]
  },
  {
   "cell_type": "code",
   "execution_count": null,
   "id": "4346c3ac",
   "metadata": {},
   "outputs": [],
   "source": []
  },
  {
   "cell_type": "markdown",
   "id": "medium-generation",
   "metadata": {},
   "source": [
    "## Vectorization Operations\n",
    "- makes looping over math so easy and fast!"
   ]
  },
  {
   "cell_type": "markdown",
   "id": "a8e224de",
   "metadata": {},
   "source": [
    "### Add one to every element"
   ]
  },
  {
   "cell_type": "markdown",
   "id": "b9efeafd",
   "metadata": {},
   "source": [
    "#### hard way: doing it in a list"
   ]
  },
  {
   "cell_type": "code",
   "execution_count": null,
   "id": "258f1d5d",
   "metadata": {},
   "outputs": [],
   "source": []
  },
  {
   "cell_type": "code",
   "execution_count": 494,
   "id": "7cef8ab3",
   "metadata": {},
   "outputs": [],
   "source": [
    "#using a for loop\n"
   ]
  },
  {
   "cell_type": "code",
   "execution_count": 495,
   "id": "1c68aba0",
   "metadata": {},
   "outputs": [],
   "source": [
    "#using a list comprehension\n"
   ]
  },
  {
   "cell_type": "markdown",
   "id": "8779aafd",
   "metadata": {},
   "source": [
    "#### easy way: doing it with an array"
   ]
  },
  {
   "cell_type": "code",
   "execution_count": null,
   "id": "09dd6656",
   "metadata": {},
   "outputs": [],
   "source": []
  },
  {
   "cell_type": "code",
   "execution_count": 496,
   "id": "9b4f67fe",
   "metadata": {},
   "outputs": [],
   "source": [
    "#using vectorization operations\n"
   ]
  },
  {
   "cell_type": "markdown",
   "id": "bb911800",
   "metadata": {},
   "source": [
    "### more operations"
   ]
  },
  {
   "cell_type": "code",
   "execution_count": null,
   "id": "50157e4d",
   "metadata": {},
   "outputs": [],
   "source": []
  },
  {
   "cell_type": "code",
   "execution_count": null,
   "id": "274f42c3",
   "metadata": {},
   "outputs": [],
   "source": []
  },
  {
   "cell_type": "code",
   "execution_count": null,
   "id": "07cab80d",
   "metadata": {},
   "outputs": [],
   "source": []
  },
  {
   "cell_type": "code",
   "execution_count": null,
   "id": "12d58f74",
   "metadata": {},
   "outputs": [],
   "source": []
  },
  {
   "cell_type": "markdown",
   "id": "ad53f0e1",
   "metadata": {},
   "source": [
    "### show us the speed"
   ]
  },
  {
   "cell_type": "code",
   "execution_count": 501,
   "id": "63d7b8d4",
   "metadata": {},
   "outputs": [],
   "source": [
    "#make a really big array\n"
   ]
  },
  {
   "cell_type": "code",
   "execution_count": 502,
   "id": "414f9834",
   "metadata": {},
   "outputs": [],
   "source": [
    "# %%timeit\n"
   ]
  },
  {
   "cell_type": "code",
   "execution_count": 503,
   "id": "05bc1ff7",
   "metadata": {},
   "outputs": [],
   "source": [
    "#make a really big list\n"
   ]
  },
  {
   "cell_type": "code",
   "execution_count": 504,
   "id": "1e526fdb",
   "metadata": {},
   "outputs": [],
   "source": [
    "# %%timeit\n"
   ]
  },
  {
   "cell_type": "markdown",
   "id": "1ab1109d",
   "metadata": {},
   "source": [
    "## Numpy ways to create arrays"
   ]
  },
  {
   "cell_type": "markdown",
   "id": "fbdf8824",
   "metadata": {},
   "source": [
    "#### full of zeros"
   ]
  },
  {
   "cell_type": "code",
   "execution_count": null,
   "id": "6df78629",
   "metadata": {},
   "outputs": [],
   "source": []
  },
  {
   "cell_type": "markdown",
   "id": "d2e1999c",
   "metadata": {},
   "source": [
    "#### full of ones"
   ]
  },
  {
   "cell_type": "code",
   "execution_count": null,
   "id": "f5896975",
   "metadata": {},
   "outputs": [],
   "source": []
  },
  {
   "cell_type": "markdown",
   "id": "485d5479",
   "metadata": {},
   "source": [
    "#### full of whatever you want "
   ]
  },
  {
   "cell_type": "code",
   "execution_count": null,
   "id": "380d5efa",
   "metadata": {},
   "outputs": [],
   "source": []
  },
  {
   "cell_type": "markdown",
   "id": "19d0e8dc",
   "metadata": {},
   "source": [
    "#### a quicker way to make a range"
   ]
  },
  {
   "cell_type": "code",
   "execution_count": null,
   "id": "5f6894ed",
   "metadata": {},
   "outputs": [],
   "source": []
  },
  {
   "cell_type": "markdown",
   "id": "ae2ed3b1",
   "metadata": {},
   "source": [
    "#### an array of random integers"
   ]
  },
  {
   "cell_type": "code",
   "execution_count": 506,
   "id": "f49323ae",
   "metadata": {},
   "outputs": [],
   "source": [
    "#np.random.randint()\n"
   ]
  },
  {
   "cell_type": "markdown",
   "id": "c7c783ac",
   "metadata": {},
   "source": [
    "#### an array of random numbers from the standard distribution"
   ]
  },
  {
   "cell_type": "code",
   "execution_count": 508,
   "id": "75c49dda",
   "metadata": {},
   "outputs": [],
   "source": [
    "#np.random.randn()\n"
   ]
  },
  {
   "cell_type": "code",
   "execution_count": null,
   "id": "1108b32e",
   "metadata": {},
   "outputs": [],
   "source": []
  }
 ],
 "metadata": {
  "kernelspec": {
   "display_name": "Python 3 (ipykernel)",
   "language": "python",
   "name": "python3"
  },
  "language_info": {
   "codemirror_mode": {
    "name": "ipython",
    "version": 3
   },
   "file_extension": ".py",
   "mimetype": "text/x-python",
   "name": "python",
   "nbconvert_exporter": "python",
   "pygments_lexer": "ipython3",
   "version": "3.9.12"
  }
 },
 "nbformat": 4,
 "nbformat_minor": 5
}
