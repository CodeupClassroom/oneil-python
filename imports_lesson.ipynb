{
 "cells": [
  {
   "cell_type": "markdown",
   "id": "f8f6a579",
   "metadata": {},
   "source": [
    "# Imports"
   ]
  },
  {
   "cell_type": "markdown",
   "id": "b1009232",
   "metadata": {},
   "source": [
    "### What is it?\n",
    "- Python code in one module gains access to the code in another module by the process of importing it"
   ]
  },
  {
   "cell_type": "markdown",
   "id": "33847a5f",
   "metadata": {},
   "source": [
    "### Why this is important? \n",
    "- Allows you to access a wide-range of useful functions! "
   ]
  },
  {
   "cell_type": "markdown",
   "id": "86f1a3c6",
   "metadata": {},
   "source": [
    "### Terminology\n",
    "\n",
    "**Module:** a file with a .py extension that contains functions and variables\n",
    "\n",
    "**Package:** a directory with modules in it\n",
    "\n",
    "**Library:** a collection of related modules and packages\n",
    "\n",
    "**Python Package Index:** also known as PyPI, a repository of community developed Python packages\n",
    "\n",
    "**Conda:** also known as Anaconda is a package manager"
   ]
  },
  {
   "cell_type": "markdown",
   "id": "98ca0f6a",
   "metadata": {},
   "source": [
    "### Where do we import from\n",
    "**Python Standard Library:** these come with python so we don't need to install them\n",
    "\n",
    "**3rd Party Packages:** think things we conda install or pip install\n",
    "\n",
    "**Our Own Code:** these are functions and modules we make!  "
   ]
  },
  {
   "cell_type": "markdown",
   "id": "2ae61a03",
   "metadata": {},
   "source": [
    "## Let's Import!"
   ]
  },
  {
   "cell_type": "markdown",
   "id": "d873b4c8",
   "metadata": {},
   "source": [
    "- format: import module_name\n",
    "\n",
    "- typically found at the top of notebooks and py files"
   ]
  },
  {
   "cell_type": "markdown",
   "id": "a7d02b44",
   "metadata": {},
   "source": [
    "## Python Standard Library \n",
    "https://docs.python.org/3/library/\n",
    "\n",
    "- come installed with python"
   ]
  },
  {
   "cell_type": "markdown",
   "id": "ed9d77d6",
   "metadata": {},
   "source": [
    "#### import math module"
   ]
  },
  {
   "cell_type": "markdown",
   "id": "6043d1f2",
   "metadata": {},
   "source": [
    "https://docs.python.org/3/library/math.html"
   ]
  },
  {
   "cell_type": "code",
   "execution_count": 1,
   "id": "a3e1ce59",
   "metadata": {},
   "outputs": [],
   "source": [
    "import math"
   ]
  },
  {
   "cell_type": "code",
   "execution_count": 2,
   "id": "2d374428",
   "metadata": {},
   "outputs": [],
   "source": [
    "math?"
   ]
  },
  {
   "cell_type": "markdown",
   "id": "5a8a8328",
   "metadata": {},
   "source": [
    "#### using the math module, get the variable pi"
   ]
  },
  {
   "cell_type": "code",
   "execution_count": 3,
   "id": "229ce38f",
   "metadata": {},
   "outputs": [
    {
     "data": {
      "text/plain": [
       "3.141592653589793"
      ]
     },
     "execution_count": 3,
     "metadata": {},
     "output_type": "execute_result"
    }
   ],
   "source": [
    "math.pi"
   ]
  },
  {
   "cell_type": "code",
   "execution_count": 4,
   "id": "29b7b8a0",
   "metadata": {},
   "outputs": [
    {
     "ename": "NameError",
     "evalue": "name 'pi' is not defined",
     "output_type": "error",
     "traceback": [
      "\u001b[0;31m---------------------------------------------------------------------------\u001b[0m",
      "\u001b[0;31mNameError\u001b[0m                                 Traceback (most recent call last)",
      "Input \u001b[0;32mIn [4]\u001b[0m, in \u001b[0;36m<cell line: 1>\u001b[0;34m()\u001b[0m\n\u001b[0;32m----> 1\u001b[0m \u001b[43mpi\u001b[49m\n",
      "\u001b[0;31mNameError\u001b[0m: name 'pi' is not defined"
     ]
    }
   ],
   "source": [
    "pi"
   ]
  },
  {
   "cell_type": "markdown",
   "id": "12ea08f6",
   "metadata": {},
   "source": [
    "#### can we import with an alias"
   ]
  },
  {
   "cell_type": "code",
   "execution_count": 5,
   "id": "3cc3199c",
   "metadata": {},
   "outputs": [],
   "source": [
    "import math as m"
   ]
  },
  {
   "cell_type": "code",
   "execution_count": 6,
   "id": "1312d90b",
   "metadata": {},
   "outputs": [
    {
     "data": {
      "text/plain": [
       "3.141592653589793"
      ]
     },
     "execution_count": 6,
     "metadata": {},
     "output_type": "execute_result"
    }
   ],
   "source": [
    "m.pi"
   ]
  },
  {
   "cell_type": "code",
   "execution_count": 7,
   "id": "28d8e703",
   "metadata": {},
   "outputs": [
    {
     "data": {
      "text/plain": [
       "3.141592653589793"
      ]
     },
     "execution_count": 7,
     "metadata": {},
     "output_type": "execute_result"
    }
   ],
   "source": [
    "math.pi"
   ]
  },
  {
   "cell_type": "markdown",
   "id": "9bc5b69e",
   "metadata": {},
   "source": [
    "> yes we can"
   ]
  },
  {
   "cell_type": "markdown",
   "id": "22064dcc",
   "metadata": {},
   "source": [
    "#### how do i call a function without writing the module name?"
   ]
  },
  {
   "cell_type": "code",
   "execution_count": 8,
   "id": "b7129dca",
   "metadata": {},
   "outputs": [],
   "source": [
    "from math import pi"
   ]
  },
  {
   "cell_type": "code",
   "execution_count": 9,
   "id": "97524f3d",
   "metadata": {},
   "outputs": [
    {
     "data": {
      "text/plain": [
       "3.141592653589793"
      ]
     },
     "execution_count": 9,
     "metadata": {},
     "output_type": "execute_result"
    }
   ],
   "source": [
    "pi"
   ]
  },
  {
   "cell_type": "code",
   "execution_count": 10,
   "id": "3aa6c4fd",
   "metadata": {},
   "outputs": [
    {
     "data": {
      "text/plain": [
       "3.141592653589793"
      ]
     },
     "execution_count": 10,
     "metadata": {},
     "output_type": "execute_result"
    }
   ],
   "source": [
    "math.pi"
   ]
  },
  {
   "cell_type": "code",
   "execution_count": 11,
   "id": "a3888eef",
   "metadata": {},
   "outputs": [
    {
     "data": {
      "text/plain": [
       "3.141592653589793"
      ]
     },
     "execution_count": 11,
     "metadata": {},
     "output_type": "execute_result"
    }
   ],
   "source": [
    "m.pi"
   ]
  },
  {
   "cell_type": "markdown",
   "id": "395eef35",
   "metadata": {},
   "source": [
    "#### using the math modele, utilize the square root function"
   ]
  },
  {
   "cell_type": "code",
   "execution_count": 12,
   "id": "7fb45005",
   "metadata": {},
   "outputs": [
    {
     "ename": "NameError",
     "evalue": "name 'sqrt' is not defined",
     "output_type": "error",
     "traceback": [
      "\u001b[0;31m---------------------------------------------------------------------------\u001b[0m",
      "\u001b[0;31mNameError\u001b[0m                                 Traceback (most recent call last)",
      "Input \u001b[0;32mIn [12]\u001b[0m, in \u001b[0;36m<cell line: 1>\u001b[0;34m()\u001b[0m\n\u001b[0;32m----> 1\u001b[0m \u001b[43msqrt\u001b[49m(\u001b[38;5;241m100\u001b[39m)\n",
      "\u001b[0;31mNameError\u001b[0m: name 'sqrt' is not defined"
     ]
    }
   ],
   "source": [
    "sqrt(100)"
   ]
  },
  {
   "cell_type": "markdown",
   "id": "d5d29851",
   "metadata": {},
   "source": [
    "> i haven't import sqrt yet"
   ]
  },
  {
   "cell_type": "code",
   "execution_count": 13,
   "id": "a1416aec",
   "metadata": {},
   "outputs": [
    {
     "data": {
      "text/plain": [
       "10.0"
      ]
     },
     "execution_count": 13,
     "metadata": {},
     "output_type": "execute_result"
    }
   ],
   "source": [
    "math.sqrt(100)"
   ]
  },
  {
   "cell_type": "code",
   "execution_count": 15,
   "id": "271c9cb8",
   "metadata": {},
   "outputs": [
    {
     "data": {
      "text/plain": [
       "10.0"
      ]
     },
     "execution_count": 15,
     "metadata": {},
     "output_type": "execute_result"
    }
   ],
   "source": [
    "m.sqrt(100)"
   ]
  },
  {
   "cell_type": "code",
   "execution_count": 18,
   "id": "8a06f64c",
   "metadata": {},
   "outputs": [
    {
     "data": {
      "text/plain": [
       "10"
      ]
     },
     "execution_count": 18,
     "metadata": {},
     "output_type": "execute_result"
    }
   ],
   "source": [
    "#can perform functions on returned variables\n",
    "int(m.sqrt(100))"
   ]
  },
  {
   "cell_type": "code",
   "execution_count": 21,
   "id": "9077b7e2",
   "metadata": {},
   "outputs": [
    {
     "data": {
      "text/plain": [
       "484.298"
      ]
     },
     "execution_count": 21,
     "metadata": {},
     "output_type": "execute_result"
    }
   ],
   "source": [
    "round(math.sqrt(234545),3)"
   ]
  },
  {
   "cell_type": "markdown",
   "id": "0ca62699",
   "metadata": {},
   "source": [
    "#### import functions with alias & use"
   ]
  },
  {
   "cell_type": "code",
   "execution_count": 22,
   "id": "38c19201",
   "metadata": {},
   "outputs": [],
   "source": [
    "from math import sqrt as st"
   ]
  },
  {
   "cell_type": "code",
   "execution_count": 25,
   "id": "cb248b9d",
   "metadata": {},
   "outputs": [
    {
     "data": {
      "text/plain": [
       "10.0"
      ]
     },
     "execution_count": 25,
     "metadata": {},
     "output_type": "execute_result"
    }
   ],
   "source": [
    "#dont have to write out math.sqrt() now\n",
    "st(100)"
   ]
  },
  {
   "cell_type": "code",
   "execution_count": 26,
   "id": "a9b44855",
   "metadata": {},
   "outputs": [
    {
     "data": {
      "text/plain": [
       "4"
      ]
     },
     "execution_count": 26,
     "metadata": {},
     "output_type": "execute_result"
    }
   ],
   "source": [
    "2+2"
   ]
  },
  {
   "cell_type": "code",
   "execution_count": 27,
   "id": "a762e797",
   "metadata": {},
   "outputs": [
    {
     "data": {
      "text/plain": [
       "8.0"
      ]
     },
     "execution_count": 27,
     "metadata": {},
     "output_type": "execute_result"
    }
   ],
   "source": [
    "st(64)"
   ]
  },
  {
   "cell_type": "markdown",
   "id": "ca613890",
   "metadata": {},
   "source": [
    "## 3rd Party Library\n",
    "\n",
    "- potentially need to install"
   ]
  },
  {
   "cell_type": "markdown",
   "id": "79c3fd74",
   "metadata": {},
   "source": [
    "### Install"
   ]
  },
  {
   "cell_type": "markdown",
   "id": "1764371d",
   "metadata": {},
   "source": [
    "<div class=\"alert alert-block alert-success\">\n",
    "    <b>Do:</b> this on the command line\n",
    "</div>\n",
    "\n",
    "`conda install somepackage`\n",
    "\n",
    "`pip install somepackage`"
   ]
  },
  {
   "cell_type": "markdown",
   "id": "aa3da952",
   "metadata": {},
   "source": [
    "### Run Em"
   ]
  },
  {
   "cell_type": "markdown",
   "id": "b3c5a381",
   "metadata": {},
   "source": [
    "#### import and use numpy"
   ]
  },
  {
   "cell_type": "code",
   "execution_count": 29,
   "id": "9da3bea2",
   "metadata": {},
   "outputs": [],
   "source": [
    "#always use the np as its standard in the ds community\n",
    "import numpy as np"
   ]
  },
  {
   "cell_type": "code",
   "execution_count": 31,
   "id": "26a76bb4",
   "metadata": {},
   "outputs": [
    {
     "data": {
      "text/plain": [
       "array([0, 1, 2, 3, 4, 5, 6, 7, 8, 9])"
      ]
     },
     "execution_count": 31,
     "metadata": {},
     "output_type": "execute_result"
    }
   ],
   "source": [
    "np.arange(10)"
   ]
  },
  {
   "cell_type": "markdown",
   "id": "8ca6e6ad",
   "metadata": {},
   "source": [
    "#### import and use pandas"
   ]
  },
  {
   "cell_type": "code",
   "execution_count": 32,
   "id": "1470a06b",
   "metadata": {},
   "outputs": [],
   "source": [
    "import pandas as pd "
   ]
  },
  {
   "cell_type": "code",
   "execution_count": 33,
   "id": "a20eb4dd",
   "metadata": {},
   "outputs": [],
   "source": [
    "pd.DataFrame?"
   ]
  },
  {
   "cell_type": "code",
   "execution_count": 34,
   "id": "77f0ba92",
   "metadata": {},
   "outputs": [
    {
     "data": {
      "text/html": [
       "<div>\n",
       "<style scoped>\n",
       "    .dataframe tbody tr th:only-of-type {\n",
       "        vertical-align: middle;\n",
       "    }\n",
       "\n",
       "    .dataframe tbody tr th {\n",
       "        vertical-align: top;\n",
       "    }\n",
       "\n",
       "    .dataframe thead th {\n",
       "        text-align: right;\n",
       "    }\n",
       "</style>\n",
       "<table border=\"1\" class=\"dataframe\">\n",
       "  <thead>\n",
       "    <tr style=\"text-align: right;\">\n",
       "      <th></th>\n",
       "      <th>col1</th>\n",
       "      <th>col2</th>\n",
       "    </tr>\n",
       "  </thead>\n",
       "  <tbody>\n",
       "    <tr>\n",
       "      <th>0</th>\n",
       "      <td>1</td>\n",
       "      <td>3</td>\n",
       "    </tr>\n",
       "    <tr>\n",
       "      <th>1</th>\n",
       "      <td>2</td>\n",
       "      <td>4</td>\n",
       "    </tr>\n",
       "  </tbody>\n",
       "</table>\n",
       "</div>"
      ],
      "text/plain": [
       "   col1  col2\n",
       "0     1     3\n",
       "1     2     4"
      ]
     },
     "execution_count": 34,
     "metadata": {},
     "output_type": "execute_result"
    }
   ],
   "source": [
    "pd.DataFrame({'col1': [1, 2], 'col2': [3, 4]})"
   ]
  },
  {
   "cell_type": "markdown",
   "id": "bbeb3d9f",
   "metadata": {},
   "source": [
    "## Your Own Code! "
   ]
  },
  {
   "cell_type": "markdown",
   "id": "c7ee59f6",
   "metadata": {},
   "source": [
    "#### Why?\n",
    "- You'll do this all the time\n",
    "\n",
    "- Avoid showing all of your code when you want to show visuals + charts\n",
    "\n",
    "- To utilize a function that you will use over and over"
   ]
  },
  {
   "cell_type": "markdown",
   "id": "5251a02e",
   "metadata": {},
   "source": [
    "#### How?\n",
    "1: Write a .py script with your variables and/or functions \n",
    "\n",
    "2: Save it in the **same folder** as working file\n",
    "\n",
    "3: In your working file, import module_name (no .py)"
   ]
  },
  {
   "cell_type": "markdown",
   "id": "9acd0138",
   "metadata": {},
   "source": [
    "#### import my py file that i made"
   ]
  },
  {
   "cell_type": "code",
   "execution_count": 40,
   "id": "ba43242f",
   "metadata": {},
   "outputs": [],
   "source": [
    "import sample_module as sm"
   ]
  },
  {
   "cell_type": "markdown",
   "id": "496fbcb6",
   "metadata": {},
   "source": [
    "#### call the functions that i made using the alias"
   ]
  },
  {
   "cell_type": "code",
   "execution_count": 36,
   "id": "ff36959f",
   "metadata": {},
   "outputs": [
    {
     "data": {
      "text/plain": [
       "12"
      ]
     },
     "execution_count": 36,
     "metadata": {},
     "output_type": "execute_result"
    }
   ],
   "source": [
    "sm.add_two(10)"
   ]
  },
  {
   "cell_type": "code",
   "execution_count": 37,
   "id": "f79d20b1",
   "metadata": {},
   "outputs": [
    {
     "data": {
      "text/plain": [
       "2349"
      ]
     },
     "execution_count": 37,
     "metadata": {},
     "output_type": "execute_result"
    }
   ],
   "source": [
    "sm.add_two(2347)"
   ]
  },
  {
   "cell_type": "code",
   "execution_count": 38,
   "id": "fa6a33ad",
   "metadata": {},
   "outputs": [
    {
     "data": {
      "text/plain": [
       "2"
      ]
     },
     "execution_count": 38,
     "metadata": {},
     "output_type": "execute_result"
    }
   ],
   "source": [
    "sm.add_two(0)"
   ]
  },
  {
   "cell_type": "markdown",
   "id": "0eba28df",
   "metadata": {},
   "source": [
    "#### need to restart kernal to import saves to py file"
   ]
  },
  {
   "cell_type": "code",
   "execution_count": 3,
   "id": "49298bb4",
   "metadata": {},
   "outputs": [
    {
     "data": {
      "text/plain": [
       "2"
      ]
     },
     "execution_count": 3,
     "metadata": {},
     "output_type": "execute_result"
    }
   ],
   "source": [
    "sm.minus_two(4)"
   ]
  },
  {
   "cell_type": "markdown",
   "id": "e5064c1f",
   "metadata": {},
   "source": [
    "#### can access all my created functions"
   ]
  },
  {
   "cell_type": "code",
   "execution_count": 4,
   "id": "06c0f0dd",
   "metadata": {},
   "outputs": [
    {
     "data": {
      "text/plain": [
       "25"
      ]
     },
     "execution_count": 4,
     "metadata": {},
     "output_type": "execute_result"
    }
   ],
   "source": [
    "sm.add_two(23)"
   ]
  },
  {
   "cell_type": "code",
   "execution_count": 7,
   "id": "8223cbf9",
   "metadata": {},
   "outputs": [
    {
     "data": {
      "text/plain": [
       "27"
      ]
     },
     "execution_count": 7,
     "metadata": {},
     "output_type": "execute_result"
    }
   ],
   "source": [
    "sm.add_two(25)"
   ]
  },
  {
   "cell_type": "code",
   "execution_count": null,
   "id": "53562c2a",
   "metadata": {},
   "outputs": [],
   "source": []
  }
 ],
 "metadata": {
  "kernelspec": {
   "display_name": "Python 3 (ipykernel)",
   "language": "python",
   "name": "python3"
  },
  "language_info": {
   "codemirror_mode": {
    "name": "ipython",
    "version": 3
   },
   "file_extension": ".py",
   "mimetype": "text/x-python",
   "name": "python",
   "nbconvert_exporter": "python",
   "pygments_lexer": "ipython3",
   "version": "3.9.12"
  }
 },
 "nbformat": 4,
 "nbformat_minor": 5
}
