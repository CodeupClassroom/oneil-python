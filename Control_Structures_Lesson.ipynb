{
 "cells": [
  {
   "cell_type": "markdown",
   "id": "035473e9",
   "metadata": {},
   "source": [
    "## Control Structures:\n",
    "\n",
    "### Topic 1: if statements!"
   ]
  },
  {
   "cell_type": "code",
   "execution_count": 1,
   "id": "d5dcf932",
   "metadata": {},
   "outputs": [],
   "source": [
    "# an if statement controls what action I do when!\n",
    "\n",
    "#  if <thing>:\n",
    "#     <do action>"
   ]
  },
  {
   "cell_type": "code",
   "execution_count": 2,
   "id": "a5476ac2",
   "metadata": {},
   "outputs": [],
   "source": [
    "# let's start with a variable called \n",
    "# breakfast\n",
    "breakfast = 'coffee'"
   ]
  },
  {
   "cell_type": "code",
   "execution_count": 4,
   "id": "4dafa7f2",
   "metadata": {},
   "outputs": [
    {
     "data": {
      "text/plain": [
       "'coffee'"
      ]
     },
     "execution_count": 4,
     "metadata": {},
     "output_type": "execute_result"
    }
   ],
   "source": [
    "breakfast"
   ]
  },
  {
   "cell_type": "code",
   "execution_count": 5,
   "id": "ce673f46",
   "metadata": {},
   "outputs": [],
   "source": [
    "#  remember! \n",
    "# = in python is an assignment operator\n",
    "# == in python is an equivalence check\n",
    "if breakfast == 'banana':\n",
    "    print('you had fruit!')"
   ]
  },
  {
   "cell_type": "code",
   "execution_count": 6,
   "id": "dd9578d3",
   "metadata": {},
   "outputs": [
    {
     "name": "stdout",
     "output_type": "stream",
     "text": [
      "you had something else! or nothing? idk\n"
     ]
    }
   ],
   "source": [
    "# if I build this out with an else:\n",
    "if breakfast == 'bananana':\n",
    "    print('you had fruit!')\n",
    "else:\n",
    "    print('you had something else! or nothing? idk')"
   ]
  },
  {
   "cell_type": "code",
   "execution_count": 8,
   "id": "8df2af3a",
   "metadata": {},
   "outputs": [],
   "source": [
    "# let's change breakfast\n",
    "breakfast = 'banana'"
   ]
  },
  {
   "cell_type": "code",
   "execution_count": 9,
   "id": "f15d5f52",
   "metadata": {},
   "outputs": [
    {
     "data": {
      "text/plain": [
       "str"
      ]
     },
     "execution_count": 9,
     "metadata": {},
     "output_type": "execute_result"
    }
   ],
   "source": [
    "type(breakfast)"
   ]
  },
  {
   "cell_type": "code",
   "execution_count": 11,
   "id": "eab3b6b3",
   "metadata": {},
   "outputs": [
    {
     "name": "stdout",
     "output_type": "stream",
     "text": [
      "banana\n"
     ]
    }
   ],
   "source": [
    "print(breakfast)"
   ]
  },
  {
   "cell_type": "code",
   "execution_count": 13,
   "id": "1d9a2940",
   "metadata": {},
   "outputs": [
    {
     "name": "stdout",
     "output_type": "stream",
     "text": [
      "you had fruit!\n"
     ]
    }
   ],
   "source": [
    "# if I build this out with an else:\n",
    "if breakfast == 'banana':\n",
    "    print('you had fruit!')\n",
    "else:\n",
    "    print('you had something else! or nothing? idk')"
   ]
  },
  {
   "cell_type": "code",
   "execution_count": 14,
   "id": "3c0d739a",
   "metadata": {},
   "outputs": [],
   "source": [
    "# let's shake it up a little bit:\n",
    "had_coffee = True"
   ]
  },
  {
   "cell_type": "code",
   "execution_count": 15,
   "id": "69a19fb7",
   "metadata": {},
   "outputs": [
    {
     "data": {
      "text/plain": [
       "bool"
      ]
     },
     "execution_count": 15,
     "metadata": {},
     "output_type": "execute_result"
    }
   ],
   "source": [
    "type(had_coffee)"
   ]
  },
  {
   "cell_type": "code",
   "execution_count": 16,
   "id": "79c2de60",
   "metadata": {},
   "outputs": [
    {
     "name": "stdout",
     "output_type": "stream",
     "text": [
      "you had fruit!\n"
     ]
    }
   ],
   "source": [
    "# if I build this out with an else:\n",
    "if not had_coffee:\n",
    "    print('you may need more caffeine!')\n",
    "elif breakfast == 'banana':\n",
    "    print('you had fruit!')\n",
    "else:\n",
    "    print('you had something else! or nothing? idk')"
   ]
  },
  {
   "cell_type": "code",
   "execution_count": 17,
   "id": "876f71ab",
   "metadata": {},
   "outputs": [
    {
     "name": "stdout",
     "output_type": "stream",
     "text": [
      "breakfast! yay breakfast!\n"
     ]
    }
   ],
   "source": [
    "# If we check a variable that does not\n",
    "# automatically render to a truth value (boolean)\n",
    "# then it merely will execute the action by existing!\n",
    "if breakfast:\n",
    "    print('breakfast! yay breakfast!')"
   ]
  },
  {
   "cell_type": "code",
   "execution_count": 18,
   "id": "f7d62948",
   "metadata": {},
   "outputs": [
    {
     "data": {
      "text/plain": [
       "'banana'"
      ]
     },
     "execution_count": 18,
     "metadata": {},
     "output_type": "execute_result"
    }
   ],
   "source": [
    "breakfast"
   ]
  },
  {
   "cell_type": "code",
   "execution_count": 19,
   "id": "9d825a34",
   "metadata": {},
   "outputs": [
    {
     "data": {
      "text/plain": [
       "str"
      ]
     },
     "execution_count": 19,
     "metadata": {},
     "output_type": "execute_result"
    }
   ],
   "source": [
    "type(breakfast)"
   ]
  },
  {
   "cell_type": "code",
   "execution_count": 21,
   "id": "6bd54bf2",
   "metadata": {},
   "outputs": [],
   "source": [
    "# note that if we check a nonexistant variable,\n",
    "# we merely get an error, so dont do that!\n",
    "\n",
    "# if lunch:\n",
    "#     print('yay lunch!')"
   ]
  },
  {
   "cell_type": "code",
   "execution_count": 22,
   "id": "06da079c",
   "metadata": {},
   "outputs": [
    {
     "data": {
      "text/plain": [
       "True"
      ]
     },
     "execution_count": 22,
     "metadata": {},
     "output_type": "execute_result"
    }
   ],
   "source": [
    "had_coffee"
   ]
  },
  {
   "cell_type": "code",
   "execution_count": 23,
   "id": "2cd428ff",
   "metadata": {},
   "outputs": [
    {
     "data": {
      "text/plain": [
       "'banana'"
      ]
     },
     "execution_count": 23,
     "metadata": {},
     "output_type": "execute_result"
    }
   ],
   "source": [
    "breakfast"
   ]
  },
  {
   "cell_type": "code",
   "execution_count": 24,
   "id": "b8e1a0f0",
   "metadata": {},
   "outputs": [
    {
     "name": "stdout",
     "output_type": "stream",
     "text": [
      "you may need more caffeine!\n"
     ]
    }
   ],
   "source": [
    "# if I build this out with an else:\n",
    "# let's remove the not from had_coffee\n",
    "if had_coffee:\n",
    "    print('you may need more caffeine!')\n",
    "elif breakfast == 'banana':\n",
    "    print('you had fruit!')\n",
    "else:\n",
    "    print('you had something else! or nothing? idk')"
   ]
  },
  {
   "cell_type": "code",
   "execution_count": 25,
   "id": "1441949f",
   "metadata": {},
   "outputs": [
    {
     "name": "stdout",
     "output_type": "stream",
     "text": [
      "you may need more caffeine!\n",
      "you had fruit!\n"
     ]
    }
   ],
   "source": [
    "# if I build this out with an else:\n",
    "if had_coffee:\n",
    "    print('you may need more caffeine!')\n",
    "if breakfast == 'banana':\n",
    "    print('you had fruit!')\n",
    "else:\n",
    "    print('you had something else! or nothing? idk')"
   ]
  },
  {
   "cell_type": "code",
   "execution_count": 27,
   "id": "8ef13eca",
   "metadata": {},
   "outputs": [
    {
     "name": "stdout",
     "output_type": "stream",
     "text": [
      "somewhat balanced! healthy-ish!\n"
     ]
    }
   ],
   "source": [
    "if had_coffee and breakfast == 'banana':\n",
    "    print('somewhat balanced! healthy-ish!')\n",
    "else:\n",
    "    print('live your life')"
   ]
  },
  {
   "cell_type": "code",
   "execution_count": 28,
   "id": "c9c125f9",
   "metadata": {},
   "outputs": [
    {
     "name": "stdout",
     "output_type": "stream",
     "text": [
      "somewhat balanced! healthy-ish!\n"
     ]
    }
   ],
   "source": [
    "# (not had_coffee) ==> False\n",
    "# (breakfast == 'banana') ==> True\n",
    "# False or True ==> True\n",
    "\n",
    "if not had_coffee or breakfast == 'banana':\n",
    "    print('somewhat balanced! healthy-ish!')\n",
    "else:\n",
    "    print('live your life')"
   ]
  },
  {
   "cell_type": "code",
   "execution_count": 29,
   "id": "21efc9a3",
   "metadata": {},
   "outputs": [],
   "source": [
    "# short example about wrapping text in quotes and parens\n",
    "# highlight text and type a quote,\n",
    "# parenthesis, or braket to wrap the text inside jupyter!\n",
    "\n",
    "# had_coffee and (breakfast == 'banana')\n",
    "# some more stuff\n",
    "# stuff i dont want as code"
   ]
  },
  {
   "cell_type": "code",
   "execution_count": 34,
   "id": "9931ab6f",
   "metadata": {},
   "outputs": [
    {
     "name": "stdout",
     "output_type": "stream",
     "text": [
      "you may need more caffeine!\n",
      "you had something else! or nothing? idk\n"
     ]
    }
   ],
   "source": [
    "# an else is only going to directly chain to the if\n",
    "# that precedes it.\n",
    "\n",
    "# if we want to link every option together,\n",
    "# we would use elif in between, which gives us\n",
    "# the optioned exclusivity\n",
    "if had_coffee:\n",
    "    print('you may need more caffeine!')\n",
    "# python makes a switch to a different check between here\n",
    "if breakfast != 'banana':\n",
    "    print('you had fruit!')\n",
    "else:\n",
    "    print('you had something else! or nothing? idk')"
   ]
  },
  {
   "cell_type": "code",
   "execution_count": 37,
   "id": "1cde330f",
   "metadata": {},
   "outputs": [
    {
     "name": "stdout",
     "output_type": "stream",
     "text": [
      "thats a string value!\n",
      "thats fruit!\n"
     ]
    }
   ],
   "source": [
    "# nesting!\n",
    "if type(breakfast) == str:\n",
    "    print('thats a string value!')\n",
    "    if breakfast in ['banana', 'orange']:\n",
    "        print('thats fruit!')\n",
    "    else:\n",
    "        print('thats something else!')\n",
    "else:\n",
    "    print('thats not a string!')"
   ]
  },
  {
   "cell_type": "code",
   "execution_count": 38,
   "id": "800176a5",
   "metadata": {},
   "outputs": [],
   "source": [
    "# change breakfast to 4\n",
    "breakfast = 4"
   ]
  },
  {
   "cell_type": "code",
   "execution_count": 39,
   "id": "bc3f7e3f",
   "metadata": {},
   "outputs": [
    {
     "name": "stdout",
     "output_type": "stream",
     "text": [
      "thats not a string!\n"
     ]
    }
   ],
   "source": [
    "# nesting!\n",
    "if type(breakfast) == str:\n",
    "    print('thats a string value!')\n",
    "    if breakfast in ['banana', 'orange']:\n",
    "        print('thats fruit!')\n",
    "    else:\n",
    "        print('thats something else!')\n",
    "else:\n",
    "    print('thats not a string!')"
   ]
  },
  {
   "cell_type": "code",
   "execution_count": 42,
   "id": "765453ae",
   "metadata": {},
   "outputs": [],
   "source": [
    "# strings as list-like things"
   ]
  },
  {
   "cell_type": "code",
   "execution_count": 43,
   "id": "d30fa16a",
   "metadata": {},
   "outputs": [
    {
     "data": {
      "text/plain": [
       "True"
      ]
     },
     "execution_count": 43,
     "metadata": {},
     "output_type": "execute_result"
    }
   ],
   "source": [
    "# is a in banana?\n",
    "'a' in 'banana'"
   ]
  },
  {
   "cell_type": "code",
   "execution_count": 41,
   "id": "8d130fb8",
   "metadata": {},
   "outputs": [
    {
     "data": {
      "text/plain": [
       "False"
      ]
     },
     "execution_count": 41,
     "metadata": {},
     "output_type": "execute_result"
    }
   ],
   "source": [
    "'z' in 'banana'"
   ]
  },
  {
   "cell_type": "code",
   "execution_count": 44,
   "id": "d6a3597e",
   "metadata": {},
   "outputs": [
    {
     "data": {
      "text/plain": [
       "True"
      ]
     },
     "execution_count": 44,
     "metadata": {},
     "output_type": "execute_result"
    }
   ],
   "source": [
    "'ana' in 'banana'"
   ]
  },
  {
   "cell_type": "code",
   "execution_count": 45,
   "id": "e70f1492",
   "metadata": {},
   "outputs": [
    {
     "data": {
      "text/plain": [
       "'n'"
      ]
     },
     "execution_count": 45,
     "metadata": {},
     "output_type": "execute_result"
    }
   ],
   "source": [
    "'banana'[2]"
   ]
  },
  {
   "cell_type": "code",
   "execution_count": 55,
   "id": "d8f066a2",
   "metadata": {},
   "outputs": [],
   "source": [
    "my_other_gwen_list = [let+'!' for let in 'bananas']"
   ]
  },
  {
   "cell_type": "markdown",
   "id": "c710b20e",
   "metadata": {},
   "source": [
    "## loooooooops!!!"
   ]
  },
  {
   "cell_type": "code",
   "execution_count": 50,
   "id": "dd4573f2",
   "metadata": {},
   "outputs": [],
   "source": [
    "# a list comprehension is a short-hand\n",
    "# for a for loop!\n",
    "# \n",
    "# a for loop will do an action per every thing \n",
    "# inside of an iterable defined in the loop\n",
    "\n",
    "# for i in itr:\n",
    "#      do action, probably relating to i"
   ]
  },
  {
   "cell_type": "code",
   "execution_count": 53,
   "id": "1c169a98",
   "metadata": {
    "scrolled": true
   },
   "outputs": [
    {
     "name": "stdout",
     "output_type": "stream",
     "text": [
      "b\n",
      "a\n",
      "n\n",
      "a\n",
      "n\n",
      "a\n",
      "s\n"
     ]
    }
   ],
   "source": [
    "gwen_list = []\n",
    "for i in 'bananas':\n",
    "    print(i)\n",
    "    gwen_list.append(i)"
   ]
  },
  {
   "cell_type": "code",
   "execution_count": 54,
   "id": "c3a6c045",
   "metadata": {},
   "outputs": [
    {
     "data": {
      "text/plain": [
       "['b', 'a', 'n', 'a', 'n', 'a', 's']"
      ]
     },
     "execution_count": 54,
     "metadata": {},
     "output_type": "execute_result"
    }
   ],
   "source": [
    "gwen_list"
   ]
  },
  {
   "cell_type": "code",
   "execution_count": 56,
   "id": "29fa966d",
   "metadata": {},
   "outputs": [
    {
     "data": {
      "text/plain": [
       "['b!', 'a!', 'n!', 'a!', 'n!', 'a!', 's!']"
      ]
     },
     "execution_count": 56,
     "metadata": {},
     "output_type": "execute_result"
    }
   ],
   "source": [
    "my_other_gwen_list"
   ]
  },
  {
   "cell_type": "code",
   "execution_count": 57,
   "id": "f648cf93",
   "metadata": {},
   "outputs": [],
   "source": [
    "# overloaded operator +"
   ]
  },
  {
   "cell_type": "code",
   "execution_count": 58,
   "id": "852b4d7e",
   "metadata": {},
   "outputs": [
    {
     "data": {
      "text/plain": [
       "'bananas'"
      ]
     },
     "execution_count": 58,
     "metadata": {},
     "output_type": "execute_result"
    }
   ],
   "source": [
    "'ba' + 'na' +'nas'"
   ]
  },
  {
   "cell_type": "code",
   "execution_count": 59,
   "id": "a9ee0263",
   "metadata": {},
   "outputs": [
    {
     "ename": "TypeError",
     "evalue": "can only concatenate str (not \"int\") to str",
     "output_type": "error",
     "traceback": [
      "\u001b[0;31m---------------------------------------------------------------------------\u001b[0m",
      "\u001b[0;31mTypeError\u001b[0m                                 Traceback (most recent call last)",
      "\u001b[0;32m<ipython-input-59-02082eaf6551>\u001b[0m in \u001b[0;36m<module>\u001b[0;34m\u001b[0m\n\u001b[0;32m----> 1\u001b[0;31m \u001b[0;34m'ba'\u001b[0m \u001b[0;34m+\u001b[0m \u001b[0;36m4\u001b[0m\u001b[0;34m\u001b[0m\u001b[0;34m\u001b[0m\u001b[0m\n\u001b[0m",
      "\u001b[0;31mTypeError\u001b[0m: can only concatenate str (not \"int\") to str"
     ]
    }
   ],
   "source": [
    "'ba' + 4"
   ]
  },
  {
   "cell_type": "code",
   "execution_count": 60,
   "id": "06166140",
   "metadata": {},
   "outputs": [
    {
     "data": {
      "text/plain": [
       "8"
      ]
     },
     "execution_count": 60,
     "metadata": {},
     "output_type": "execute_result"
    }
   ],
   "source": [
    "4 + 4"
   ]
  },
  {
   "cell_type": "code",
   "execution_count": null,
   "id": "ce7af974",
   "metadata": {},
   "outputs": [],
   "source": [
    "# remember that + works both as concatenation\n",
    "# and addition in python ==> keep track of your data types!"
   ]
  },
  {
   "cell_type": "code",
   "execution_count": 62,
   "id": "67be2014",
   "metadata": {},
   "outputs": [
    {
     "data": {
      "text/plain": [
       "'4ba'"
      ]
     },
     "execution_count": 62,
     "metadata": {},
     "output_type": "execute_result"
    }
   ],
   "source": [
    "# 4 + 'ba'\n",
    "# type casting:\n",
    "str(4) + 'ba'\n",
    "# transform directly into string literal:\n",
    "'4' + 'ba'"
   ]
  },
  {
   "cell_type": "code",
   "execution_count": 63,
   "id": "be4df308",
   "metadata": {},
   "outputs": [
    {
     "ename": "ValueError",
     "evalue": "invalid literal for int() with base 10: 'ba'",
     "output_type": "error",
     "traceback": [
      "\u001b[0;31m---------------------------------------------------------------------------\u001b[0m",
      "\u001b[0;31mValueError\u001b[0m                                Traceback (most recent call last)",
      "\u001b[0;32m<ipython-input-63-4bd10ea46509>\u001b[0m in \u001b[0;36m<module>\u001b[0;34m\u001b[0m\n\u001b[0;32m----> 1\u001b[0;31m \u001b[0mint\u001b[0m\u001b[0;34m(\u001b[0m\u001b[0;34m'ba'\u001b[0m\u001b[0;34m)\u001b[0m\u001b[0;34m\u001b[0m\u001b[0;34m\u001b[0m\u001b[0m\n\u001b[0m",
      "\u001b[0;31mValueError\u001b[0m: invalid literal for int() with base 10: 'ba'"
     ]
    }
   ],
   "source": [
    "int('ba')"
   ]
  },
  {
   "cell_type": "code",
   "execution_count": 64,
   "id": "67271b62",
   "metadata": {},
   "outputs": [
    {
     "ename": "ValueError",
     "evalue": "invalid literal for int() with base 10: 'b'",
     "output_type": "error",
     "traceback": [
      "\u001b[0;31m---------------------------------------------------------------------------\u001b[0m",
      "\u001b[0;31mValueError\u001b[0m                                Traceback (most recent call last)",
      "\u001b[0;32m<ipython-input-64-bf93659affab>\u001b[0m in \u001b[0;36m<module>\u001b[0;34m\u001b[0m\n\u001b[0;32m----> 1\u001b[0;31m \u001b[0mint\u001b[0m\u001b[0;34m(\u001b[0m\u001b[0;34m'b'\u001b[0m\u001b[0;34m)\u001b[0m\u001b[0;34m\u001b[0m\u001b[0;34m\u001b[0m\u001b[0m\n\u001b[0m",
      "\u001b[0;31mValueError\u001b[0m: invalid literal for int() with base 10: 'b'"
     ]
    }
   ],
   "source": [
    "int('b')"
   ]
  },
  {
   "cell_type": "code",
   "execution_count": 65,
   "id": "34a6f9b9",
   "metadata": {},
   "outputs": [
    {
     "data": {
      "text/plain": [
       "4"
      ]
     },
     "execution_count": 65,
     "metadata": {},
     "output_type": "execute_result"
    }
   ],
   "source": [
    "int('4')"
   ]
  },
  {
   "cell_type": "code",
   "execution_count": 68,
   "id": "f3437e0e",
   "metadata": {},
   "outputs": [
    {
     "name": "stdout",
     "output_type": "stream",
     "text": [
      "hey hi good morning!5\n"
     ]
    }
   ],
   "source": [
    "# some stuff may require input:\n",
    "my_user_var = input('hey hi good morning!')\n"
   ]
  },
  {
   "cell_type": "code",
   "execution_count": 69,
   "id": "e4de8ec0",
   "metadata": {},
   "outputs": [
    {
     "data": {
      "text/plain": [
       "'5'"
      ]
     },
     "execution_count": 69,
     "metadata": {},
     "output_type": "execute_result"
    }
   ],
   "source": [
    "my_user_var"
   ]
  },
  {
   "cell_type": "code",
   "execution_count": 70,
   "id": "fdecda1c",
   "metadata": {},
   "outputs": [
    {
     "data": {
      "text/plain": [
       "True"
      ]
     },
     "execution_count": 70,
     "metadata": {},
     "output_type": "execute_result"
    }
   ],
   "source": [
    "5 > 4"
   ]
  },
  {
   "cell_type": "code",
   "execution_count": 71,
   "id": "1e8d7a0d",
   "metadata": {},
   "outputs": [
    {
     "ename": "TypeError",
     "evalue": "'>' not supported between instances of 'str' and 'int'",
     "output_type": "error",
     "traceback": [
      "\u001b[0;31m---------------------------------------------------------------------------\u001b[0m",
      "\u001b[0;31mTypeError\u001b[0m                                 Traceback (most recent call last)",
      "\u001b[0;32m<ipython-input-71-c504918a1197>\u001b[0m in \u001b[0;36m<module>\u001b[0;34m\u001b[0m\n\u001b[0;32m----> 1\u001b[0;31m \u001b[0mmy_user_var\u001b[0m \u001b[0;34m>\u001b[0m \u001b[0;36m4\u001b[0m\u001b[0;34m\u001b[0m\u001b[0;34m\u001b[0m\u001b[0m\n\u001b[0m",
      "\u001b[0;31mTypeError\u001b[0m: '>' not supported between instances of 'str' and 'int'"
     ]
    }
   ],
   "source": [
    "my_user_var > 4"
   ]
  },
  {
   "cell_type": "code",
   "execution_count": 73,
   "id": "75f66232",
   "metadata": {},
   "outputs": [],
   "source": [
    "input?"
   ]
  },
  {
   "cell_type": "code",
   "execution_count": 76,
   "id": "566e7e95",
   "metadata": {},
   "outputs": [],
   "source": [
    "breakfast='Banana'"
   ]
  },
  {
   "cell_type": "code",
   "execution_count": 77,
   "id": "f4010c42",
   "metadata": {},
   "outputs": [
    {
     "data": {
      "text/plain": [
       "'banana'"
      ]
     },
     "execution_count": 77,
     "metadata": {},
     "output_type": "execute_result"
    }
   ],
   "source": [
    "breakfast.lower()"
   ]
  },
  {
   "cell_type": "code",
   "execution_count": 78,
   "id": "00754ca2",
   "metadata": {},
   "outputs": [
    {
     "name": "stdout",
     "output_type": "stream",
     "text": [
      "Object `lower` not found.\n"
     ]
    }
   ],
   "source": [
    "str.lower?"
   ]
  },
  {
   "cell_type": "code",
   "execution_count": 79,
   "id": "b1bbf167",
   "metadata": {},
   "outputs": [
    {
     "name": "stdout",
     "output_type": "stream",
     "text": [
      "Object `lower` not found.\n"
     ]
    }
   ],
   "source": [
    ".lower?"
   ]
  },
  {
   "cell_type": "code",
   "execution_count": 80,
   "id": "a8be5b17",
   "metadata": {},
   "outputs": [],
   "source": [
    "# if we want to get the documention on\n",
    "# a method , we can also use the ?\n",
    "# but we just need to define what object it applies to first\n",
    "# str.lower?"
   ]
  },
  {
   "cell_type": "code",
   "execution_count": 81,
   "id": "ecf4952e",
   "metadata": {},
   "outputs": [],
   "source": [
    "# while loops:\n",
    "# see annoy_me.py"
   ]
  },
  {
   "cell_type": "markdown",
   "id": "c8ab5469",
   "metadata": {},
   "source": [
    "### Loops in general:\n",
    " - under some condition:\n",
    " - do some action"
   ]
  },
  {
   "cell_type": "code",
   "execution_count": 82,
   "id": "5f9b602e",
   "metadata": {},
   "outputs": [],
   "source": [
    "# for loops:\n",
    "# for every thing in this bunch of things, do this action\n",
    "\n",
    "# while loops:\n",
    "# if this condition is true, keep doing this action"
   ]
  },
  {
   "cell_type": "code",
   "execution_count": 84,
   "id": "89dde911",
   "metadata": {},
   "outputs": [],
   "source": [
    "my_fruit_list = ['banana',\n",
    "'apple',\n",
    "'persimmon',\n",
    "'grapefruit',\n",
    "'kiwi']"
   ]
  },
  {
   "cell_type": "code",
   "execution_count": 85,
   "id": "874cea49",
   "metadata": {},
   "outputs": [
    {
     "data": {
      "text/plain": [
       "['banana', 'apple', 'persimmon', 'grapefruit', 'kiwi']"
      ]
     },
     "execution_count": 85,
     "metadata": {},
     "output_type": "execute_result"
    }
   ],
   "source": [
    "my_fruit_list"
   ]
  },
  {
   "cell_type": "code",
   "execution_count": 86,
   "id": "9d9c2ffc",
   "metadata": {},
   "outputs": [
    {
     "name": "stdout",
     "output_type": "stream",
     "text": [
      "banana\n",
      "apple\n",
      "persimmon\n",
      "grapefruit\n",
      "kiwi\n"
     ]
    }
   ],
   "source": [
    "# let's build out a for loop around my fruit list:\n",
    "for item in my_fruit_list:\n",
    "    print(item)\n"
   ]
  },
  {
   "cell_type": "code",
   "execution_count": 87,
   "id": "1bb32d00",
   "metadata": {},
   "outputs": [
    {
     "name": "stdout",
     "output_type": "stream",
     "text": [
      "0\n",
      "banana\n",
      "1\n",
      "apple\n",
      "2\n",
      "persimmon\n",
      "3\n",
      "grapefruit\n",
      "4\n",
      "kiwi\n"
     ]
    }
   ],
   "source": [
    "# we can get both the index and the value!\n",
    "# the first thing returned from enumerate is always the index\n",
    "# the second thing is always the actual item\n",
    "for i, item in enumerate(my_fruit_list):\n",
    "    print(i)\n",
    "    print(item)"
   ]
  },
  {
   "cell_type": "code",
   "execution_count": 92,
   "id": "037b4069",
   "metadata": {},
   "outputs": [
    {
     "data": {
      "text/plain": [
       "[(0, 'banana'), (1, 'apple'), (2, 'persimmon'), (3, 'grapefruit'), (4, 'kiwi')]"
      ]
     },
     "execution_count": 92,
     "metadata": {},
     "output_type": "execute_result"
    }
   ],
   "source": [
    "list(enumerate(my_fruit_list))"
   ]
  },
  {
   "cell_type": "code",
   "execution_count": 90,
   "id": "db70b41a",
   "metadata": {},
   "outputs": [
    {
     "data": {
      "text/plain": [
       "[0, 1, 2, 3, 4, 5, 6, 7, 8, 9]"
      ]
     },
     "execution_count": 90,
     "metadata": {},
     "output_type": "execute_result"
    }
   ],
   "source": [
    "list(range(10))"
   ]
  },
  {
   "cell_type": "code",
   "execution_count": 102,
   "id": "8173b0a1",
   "metadata": {},
   "outputs": [],
   "source": [
    "my_fruit_list = \\\n",
    "['banana', 'apple', 'watermelon', 'persimmon', 'peach', 'grapefruit', 'kiwi']"
   ]
  },
  {
   "cell_type": "code",
   "execution_count": 103,
   "id": "124d4d39",
   "metadata": {},
   "outputs": [
    {
     "data": {
      "text/plain": [
       "['banana', 'apple', 'watermelon', 'persimmon', 'peach', 'grapefruit', 'kiwi']"
      ]
     },
     "execution_count": 103,
     "metadata": {},
     "output_type": "execute_result"
    }
   ],
   "source": [
    "my_fruit_list"
   ]
  },
  {
   "cell_type": "code",
   "execution_count": 106,
   "id": "41a23ae5",
   "metadata": {},
   "outputs": [
    {
     "name": "stdout",
     "output_type": "stream",
     "text": [
      "this fruit is a banana!\n",
      "am i here again? the fruit is apple\n",
      "this fruit is a apple!\n",
      "this fruit is a watermelon!\n",
      "this fruit is a peach!\n"
     ]
    }
   ],
   "source": [
    "# let's get picky!\n",
    "for fruit in my_fruit_list:\n",
    "    if fruit == 'persimmon':\n",
    "        continue\n",
    "        print('am i here?')\n",
    "    if fruit == 'apple':\n",
    "        pass\n",
    "        print(f'am i here again? the fruit is {fruit}')\n",
    "    if fruit == 'grapefruit':\n",
    "        break\n",
    "    print(f'this fruit is a {fruit}!')"
   ]
  },
  {
   "cell_type": "code",
   "execution_count": null,
   "id": "621908f2",
   "metadata": {},
   "outputs": [],
   "source": [
    "# continue: stop the code inside the loop,\n",
    "# jump back to the beginning of the loop\n",
    "# for the next item\n",
    "\n",
    "# break: exit the loop right now entirely."
   ]
  },
  {
   "cell_type": "code",
   "execution_count": null,
   "id": "1464ad5a",
   "metadata": {},
   "outputs": [],
   "source": []
  }
 ],
 "metadata": {
  "kernelspec": {
   "display_name": "Python 3",
   "language": "python",
   "name": "python3"
  },
  "language_info": {
   "codemirror_mode": {
    "name": "ipython",
    "version": 3
   },
   "file_extension": ".py",
   "mimetype": "text/x-python",
   "name": "python",
   "nbconvert_exporter": "python",
   "pygments_lexer": "ipython3",
   "version": "3.9.4"
  }
 },
 "nbformat": 4,
 "nbformat_minor": 5
}
