{
 "cells": [
  {
   "cell_type": "markdown",
   "id": "e160e7b5",
   "metadata": {},
   "source": [
    "Prompt the user for an odd number between 1 and 50. Use a loop and a break statement to continue prompting the user if they enter invalid input. (Hint: use the isdigit method on strings to determine this). Use a loop and the continue statement to output all the odd numbers between 1 and 50, except for the number the user entered."
   ]
  },
  {
   "cell_type": "code",
   "execution_count": 1,
   "id": "ecb85a3d",
   "metadata": {},
   "outputs": [],
   "source": [
    "# we want:\n",
    "# a user to enter a number between 1 and 50\n",
    "# we want the number to be odd\n",
    "# once we have the right number:\n",
    "# use a loop to print out all the odd numbers,\n",
    "# unless its the number the user input,\n",
    "# in which case we \"skip\"\n"
   ]
  },
  {
   "cell_type": "code",
   "execution_count": 2,
   "id": "826c319b",
   "metadata": {},
   "outputs": [],
   "source": [
    "# two tasks: build a loop that will print odd numbers\n",
    "# build an inquiry loop that will ask for the right info"
   ]
  },
  {
   "cell_type": "code",
   "execution_count": 3,
   "id": "6b19b220",
   "metadata": {},
   "outputs": [],
   "source": [
    "# task 1: build a loop that constructs prints\n",
    "# for all odd numbers in a range,\n",
    "# but throws an exception in the case that its a\n",
    "# specific selected number"
   ]
  },
  {
   "cell_type": "code",
   "execution_count": 4,
   "id": "68e74547",
   "metadata": {},
   "outputs": [],
   "source": [
    "# specific case:\n",
    "# if the number in this loop is the one the user\n",
    "# said, skip that number (do something else)\n",
    "\n",
    "# otherwise,\n",
    "# the loop is merely printing out odd numbers\n",
    "# from 1 to 50"
   ]
  },
  {
   "cell_type": "code",
   "execution_count": 5,
   "id": "28914c2f",
   "metadata": {},
   "outputs": [
    {
     "name": "stdout",
     "output_type": "stream",
     "text": [
      "1\n",
      "3\n",
      "5\n",
      "yikes!\n",
      "9\n",
      "11\n",
      "13\n",
      "15\n",
      "17\n",
      "19\n",
      "21\n",
      "23\n",
      "25\n",
      "27\n",
      "29\n",
      "31\n",
      "33\n",
      "35\n",
      "37\n",
      "39\n",
      "41\n",
      "43\n",
      "45\n",
      "47\n",
      "49\n"
     ]
    }
   ],
   "source": [
    "user_num = 7\n",
    "for i in range(1,50 + 1):\n",
    "    # print(i)\n",
    "    if i % 2 != 0:\n",
    "        if i == user_num:\n",
    "            print('yikes!')\n",
    "        else:\n",
    "            print(i)\n",
    "    "
   ]
  },
  {
   "cell_type": "code",
   "execution_count": 6,
   "id": "37ef280b",
   "metadata": {},
   "outputs": [
    {
     "name": "stdout",
     "output_type": "stream",
     "text": [
      "1\n",
      "3\n",
      "5\n",
      "9\n",
      "11\n",
      "13\n",
      "15\n",
      "17\n",
      "19\n",
      "21\n",
      "23\n",
      "25\n",
      "27\n",
      "29\n",
      "31\n",
      "33\n",
      "35\n",
      "37\n",
      "39\n",
      "41\n",
      "43\n",
      "45\n",
      "47\n",
      "49\n"
     ]
    }
   ],
   "source": [
    "for i in range(1,51,2):\n",
    "    if i == user_num:\n",
    "        continue\n",
    "    else:\n",
    "        print(i)"
   ]
  },
  {
   "cell_type": "code",
   "execution_count": 7,
   "id": "dc1b4a59",
   "metadata": {},
   "outputs": [
    {
     "data": {
      "text/plain": [
       "14.5"
      ]
     },
     "execution_count": 7,
     "metadata": {},
     "output_type": "execute_result"
    }
   ],
   "source": [
    "float('14.5')"
   ]
  },
  {
   "cell_type": "code",
   "execution_count": 8,
   "id": "e1fee7c3",
   "metadata": {},
   "outputs": [
    {
     "data": {
      "text/plain": [
       "14"
      ]
     },
     "execution_count": 8,
     "metadata": {},
     "output_type": "execute_result"
    }
   ],
   "source": [
    "int(float('14.5'))"
   ]
  },
  {
   "cell_type": "code",
   "execution_count": 9,
   "id": "0a9e21b6",
   "metadata": {},
   "outputs": [],
   "source": [
    "str.isdigit?"
   ]
  },
  {
   "cell_type": "code",
   "execution_count": 10,
   "id": "3118cd1f",
   "metadata": {},
   "outputs": [
    {
     "data": {
      "text/plain": [
       "True"
      ]
     },
     "execution_count": 10,
     "metadata": {},
     "output_type": "execute_result"
    }
   ],
   "source": [
    "(1 < user_num < 50) and user_num % 2 == 1"
   ]
  },
  {
   "cell_type": "code",
   "execution_count": 11,
   "id": "0ce17957",
   "metadata": {},
   "outputs": [
    {
     "name": "stdout",
     "output_type": "stream",
     "text": [
      "\n",
      "    Please input an odd number\n",
      "    Between 1 and 50: 35\n",
      "1\n",
      "3\n",
      "5\n",
      "7\n",
      "9\n",
      "11\n",
      "13\n",
      "15\n",
      "17\n",
      "19\n",
      "21\n",
      "23\n",
      "25\n",
      "27\n",
      "29\n",
      "31\n",
      "33\n",
      "37\n",
      "39\n",
      "41\n",
      "43\n",
      "45\n",
      "47\n",
      "49\n",
      "Go again?\n",
      "n\n"
     ]
    }
   ],
   "source": [
    "while True:\n",
    "    user_num = input('''\n",
    "    Please input an odd number\n",
    "    Between 1 and 50: ''')\n",
    "    if user_num.isdigit():\n",
    "        #check to see if theres a number in string\n",
    "        #now that ive made that check:\n",
    "        #i have the certainty that doing int()\n",
    "        # will not just break my code\n",
    "        user_num = int(user_num)\n",
    "        if user_num > 0 and \\\n",
    "        user_num < 50 and \\\n",
    "        user_num % 2 != 0:\n",
    "            for i in range(1,51,2):\n",
    "                if i == user_num:\n",
    "                    continue\n",
    "                else:\n",
    "                    print(i)\n",
    "            response = input('Go again?\\n')\n",
    "            if response.lower()[0] != 'y':\n",
    "                break"
   ]
  },
  {
   "cell_type": "code",
   "execution_count": 12,
   "id": "a2b80cc1",
   "metadata": {},
   "outputs": [
    {
     "data": {
      "text/plain": [
       "35"
      ]
     },
     "execution_count": 12,
     "metadata": {},
     "output_type": "execute_result"
    }
   ],
   "source": [
    "user_num"
   ]
  },
  {
   "cell_type": "markdown",
   "id": "c4291861",
   "metadata": {},
   "source": [
    "## Functions"
   ]
  },
  {
   "cell_type": "markdown",
   "id": "beb43403",
   "metadata": {},
   "source": [
    "#### functions are one of the biggest tools we have in Python!"
   ]
  },
  {
   "cell_type": "markdown",
   "id": "a6b832b2",
   "metadata": {},
   "source": [
    " - Two flavors:\n",
    " - thing that you made\n",
    " - thing that someone else made\n",
    " "
   ]
  },
  {
   "cell_type": "code",
   "execution_count": 13,
   "id": "db7dc76d",
   "metadata": {},
   "outputs": [
    {
     "data": {
      "text/plain": [
       "11"
      ]
     },
     "execution_count": 13,
     "metadata": {},
     "output_type": "execute_result"
    }
   ],
   "source": [
    "len('Hello oneil')"
   ]
  },
  {
   "cell_type": "code",
   "execution_count": 14,
   "id": "d350f6bc",
   "metadata": {},
   "outputs": [],
   "source": [
    "# In this first case,\n",
    "# len is a function that exists in the Python\n",
    "# standard library\n",
    "# functions like len can be called without\n",
    "# any type if extra imports (more on this later)\n",
    "\n",
    "# Let's examine a function:"
   ]
  },
  {
   "cell_type": "code",
   "execution_count": 15,
   "id": "b516cac7",
   "metadata": {},
   "outputs": [
    {
     "data": {
      "text/plain": [
       "<function len(obj, /)>"
      ]
     },
     "execution_count": 15,
     "metadata": {},
     "output_type": "execute_result"
    }
   ],
   "source": [
    "len"
   ]
  },
  {
   "cell_type": "code",
   "execution_count": 19,
   "id": "54aa653d",
   "metadata": {},
   "outputs": [],
   "source": [
    "# len()\n",
    "# This breaks because python tells me\n",
    "# that I need exactly one argument!\n",
    "# What mean?"
   ]
  },
  {
   "cell_type": "code",
   "execution_count": 17,
   "id": "aa6cc533",
   "metadata": {},
   "outputs": [
    {
     "data": {
      "text/plain": [
       "<function len(obj, /)>"
      ]
     },
     "execution_count": 17,
     "metadata": {},
     "output_type": "execute_result"
    }
   ],
   "source": [
    "len"
   ]
  },
  {
   "cell_type": "code",
   "execution_count": 18,
   "id": "ccaba5cf",
   "metadata": {},
   "outputs": [],
   "source": [
    "# the function itself:\n",
    "# len\n",
    "# the *invocation* of the function:\n",
    "# len()"
   ]
  },
  {
   "cell_type": "code",
   "execution_count": 20,
   "id": "f4f67577",
   "metadata": {},
   "outputs": [],
   "source": [
    "# the thing that len was asking for when it broke?\n",
    "# it used the word argument"
   ]
  },
  {
   "cell_type": "code",
   "execution_count": 21,
   "id": "5e1b29d0",
   "metadata": {},
   "outputs": [
    {
     "data": {
      "text/plain": [
       "39"
      ]
     },
     "execution_count": 21,
     "metadata": {},
     "output_type": "execute_result"
    }
   ],
   "source": [
    "len('too much freedom i could write anything')"
   ]
  },
  {
   "cell_type": "code",
   "execution_count": 23,
   "id": "4c967103",
   "metadata": {},
   "outputs": [
    {
     "data": {
      "text/plain": [
       "4"
      ]
     },
     "execution_count": 23,
     "metadata": {},
     "output_type": "execute_result"
    }
   ],
   "source": [
    "len([6, 9, 24, ['45', '68']])"
   ]
  },
  {
   "cell_type": "code",
   "execution_count": 24,
   "id": "665be071",
   "metadata": {},
   "outputs": [],
   "source": [
    "# in this case, len will be fed any thing that it can count,\n",
    "# and return said count back to the user"
   ]
  },
  {
   "cell_type": "code",
   "execution_count": 25,
   "id": "11e4a62b",
   "metadata": {},
   "outputs": [],
   "source": [
    "# to get documentation on the function:\n",
    "# I can call \n",
    "len?"
   ]
  },
  {
   "cell_type": "code",
   "execution_count": 26,
   "id": "d01ef601",
   "metadata": {},
   "outputs": [],
   "source": [
    "# lets look at string's lower:"
   ]
  },
  {
   "cell_type": "code",
   "execution_count": 29,
   "id": "a00aeba4",
   "metadata": {},
   "outputs": [],
   "source": [
    "str.lower?\n",
    "# .lower belongs to string, so its a special type\n",
    "# of function: a method that belongs to the string class"
   ]
  },
  {
   "cell_type": "markdown",
   "id": "d4d6a2c2",
   "metadata": {},
   "source": [
    "## let's build out our first function:"
   ]
  },
  {
   "cell_type": "code",
   "execution_count": 30,
   "id": "02d9bb66",
   "metadata": {},
   "outputs": [],
   "source": [
    "# functions in python require the word def to start"
   ]
  },
  {
   "cell_type": "code",
   "execution_count": 33,
   "id": "a319d3c3",
   "metadata": {},
   "outputs": [
    {
     "name": "stdout",
     "output_type": "stream",
     "text": [
      "\n",
      "\n"
     ]
    }
   ],
   "source": [
    "# print is a specific type of function:\n",
    "# it does not need any arguments!\n",
    "print()\n",
    "print()"
   ]
  },
  {
   "cell_type": "code",
   "execution_count": 35,
   "id": "73de9d1b",
   "metadata": {},
   "outputs": [],
   "source": [
    "# structure:\n",
    "# def <the name of function>(<any parameters>)\n",
    "def my_oneil_function():\n",
    "    '''\n",
    "    This is where a doc-string goes!\n",
    "    Prints a greeting to oneil\n",
    "    '''\n",
    "    print('Hello my class!')"
   ]
  },
  {
   "cell_type": "code",
   "execution_count": 36,
   "id": "f399413e",
   "metadata": {},
   "outputs": [
    {
     "name": "stdout",
     "output_type": "stream",
     "text": [
      "Hello my class!\n"
     ]
    }
   ],
   "source": [
    "# let's invoke our first function!\n",
    "# to call the function:\n",
    "my_oneil_function()"
   ]
  },
  {
   "cell_type": "code",
   "execution_count": 37,
   "id": "b1eec77f",
   "metadata": {},
   "outputs": [
    {
     "data": {
      "text/plain": [
       "<function __main__.my_oneil_function()>"
      ]
     },
     "execution_count": 37,
     "metadata": {},
     "output_type": "execute_result"
    }
   ],
   "source": [
    "my_oneil_function()"
   ]
  },
  {
   "cell_type": "code",
   "execution_count": 38,
   "id": "d49dbea6",
   "metadata": {},
   "outputs": [],
   "source": [
    "my_oneil_function?"
   ]
  },
  {
   "cell_type": "code",
   "execution_count": 39,
   "id": "1a7134e6",
   "metadata": {},
   "outputs": [],
   "source": [
    "# structure:\n",
    "# def <the name of function>(<any parameters>)\n",
    "def my_oneil_function():\n",
    "    '''\n",
    "    This is where a doc-string goes!\n",
    "    Prints a greeting to oneil\n",
    "    '''\n",
    "    print('Hello my class!')\n",
    "    x = my_extra_variable"
   ]
  },
  {
   "cell_type": "code",
   "execution_count": 40,
   "id": "302a6da6",
   "metadata": {},
   "outputs": [
    {
     "name": "stdout",
     "output_type": "stream",
     "text": [
      "Hello my class!\n"
     ]
    },
    {
     "ename": "NameError",
     "evalue": "name 'my_extra_variable' is not defined",
     "output_type": "error",
     "traceback": [
      "\u001b[0;31m---------------------------------------------------------------------------\u001b[0m",
      "\u001b[0;31mNameError\u001b[0m                                 Traceback (most recent call last)",
      "\u001b[0;32m<ipython-input-40-a104c68b86ef>\u001b[0m in \u001b[0;36m<module>\u001b[0;34m\u001b[0m\n\u001b[0;32m----> 1\u001b[0;31m \u001b[0mmy_oneil_function\u001b[0m\u001b[0;34m(\u001b[0m\u001b[0;34m)\u001b[0m\u001b[0;34m\u001b[0m\u001b[0;34m\u001b[0m\u001b[0m\n\u001b[0m",
      "\u001b[0;32m<ipython-input-39-816f17e02372>\u001b[0m in \u001b[0;36mmy_oneil_function\u001b[0;34m()\u001b[0m\n\u001b[1;32m      7\u001b[0m     '''\n\u001b[1;32m      8\u001b[0m     \u001b[0mprint\u001b[0m\u001b[0;34m(\u001b[0m\u001b[0;34m'Hello my class!'\u001b[0m\u001b[0;34m)\u001b[0m\u001b[0;34m\u001b[0m\u001b[0;34m\u001b[0m\u001b[0m\n\u001b[0;32m----> 9\u001b[0;31m     \u001b[0mx\u001b[0m \u001b[0;34m=\u001b[0m \u001b[0mmy_extra_variable\u001b[0m\u001b[0;34m\u001b[0m\u001b[0;34m\u001b[0m\u001b[0m\n\u001b[0m",
      "\u001b[0;31mNameError\u001b[0m: name 'my_extra_variable' is not defined"
     ]
    }
   ],
   "source": [
    "my_oneil_function()"
   ]
  },
  {
   "cell_type": "code",
   "execution_count": null,
   "id": "36ddce5a",
   "metadata": {},
   "outputs": [],
   "source": []
  },
  {
   "cell_type": "code",
   "execution_count": 41,
   "id": "1732e24c",
   "metadata": {},
   "outputs": [],
   "source": [
    "# let's assign x into something real!\n",
    "# def <the name of function>(<any parameters>)\n",
    "def my_oneil_function():\n",
    "    '''\n",
    "    This is where a doc-string goes!\n",
    "    Prints a greeting to oneil\n",
    "    '''\n",
    "    print('Hello my class!')\n",
    "    x = 7"
   ]
  },
  {
   "cell_type": "code",
   "execution_count": 42,
   "id": "2a7d6e8f",
   "metadata": {},
   "outputs": [
    {
     "name": "stdout",
     "output_type": "stream",
     "text": [
      "Hello my class!\n"
     ]
    }
   ],
   "source": [
    "my_oneil_function()"
   ]
  },
  {
   "cell_type": "code",
   "execution_count": 43,
   "id": "1f8ddb84",
   "metadata": {},
   "outputs": [],
   "source": [
    "x = 7"
   ]
  },
  {
   "cell_type": "code",
   "execution_count": 44,
   "id": "90f76bf6",
   "metadata": {},
   "outputs": [
    {
     "data": {
      "text/plain": [
       "7"
      ]
     },
     "execution_count": 44,
     "metadata": {},
     "output_type": "execute_result"
    }
   ],
   "source": [
    "x"
   ]
  },
  {
   "cell_type": "code",
   "execution_count": 45,
   "id": "4012d4b0",
   "metadata": {},
   "outputs": [],
   "source": [
    "def my_obfuscation():\n",
    "    x = 45\n",
    "    print(x)"
   ]
  },
  {
   "cell_type": "code",
   "execution_count": 46,
   "id": "6bf38692",
   "metadata": {},
   "outputs": [
    {
     "name": "stdout",
     "output_type": "stream",
     "text": [
      "45\n"
     ]
    }
   ],
   "source": [
    "my_obfuscation()"
   ]
  },
  {
   "cell_type": "code",
   "execution_count": 47,
   "id": "b92f7e78",
   "metadata": {},
   "outputs": [
    {
     "data": {
      "text/plain": [
       "7"
      ]
     },
     "execution_count": 47,
     "metadata": {},
     "output_type": "execute_result"
    }
   ],
   "source": [
    "x"
   ]
  },
  {
   "cell_type": "code",
   "execution_count": 48,
   "id": "c06a7e21",
   "metadata": {},
   "outputs": [],
   "source": [
    "# global versus local scope!\n",
    "# the global variable x was set to 7\n",
    "# When we invoke my_obfuscation:\n",
    "# we get inside of that function call\n",
    "# and make a variable called x that gets the value\n",
    "# of 45! We print this by saying print(x) inside\n",
    "# the function and then print the global version\n",
    "# outside of the scope of the function, where x\n",
    "# is still 7"
   ]
  },
  {
   "cell_type": "code",
   "execution_count": 49,
   "id": "72a4d00b",
   "metadata": {},
   "outputs": [],
   "source": [
    "def my_altering_function(n):\n",
    "    '''\n",
    "    my altering function\n",
    "    will take any integer value\n",
    "    and reassign that value to 45.\n",
    "    Return: a single int, 45\n",
    "    '''\n",
    "    n = 45\n",
    "    return n"
   ]
  },
  {
   "cell_type": "code",
   "execution_count": 50,
   "id": "250f811d",
   "metadata": {},
   "outputs": [],
   "source": [
    "x = 7"
   ]
  },
  {
   "cell_type": "code",
   "execution_count": 51,
   "id": "e030b19a",
   "metadata": {},
   "outputs": [
    {
     "data": {
      "text/plain": [
       "7"
      ]
     },
     "execution_count": 51,
     "metadata": {},
     "output_type": "execute_result"
    }
   ],
   "source": [
    "x"
   ]
  },
  {
   "cell_type": "code",
   "execution_count": 52,
   "id": "c2c7d2fa",
   "metadata": {},
   "outputs": [
    {
     "data": {
      "text/plain": [
       "45"
      ]
     },
     "execution_count": 52,
     "metadata": {},
     "output_type": "execute_result"
    }
   ],
   "source": [
    "my_altering_function(x)"
   ]
  },
  {
   "cell_type": "code",
   "execution_count": 53,
   "id": "6adb1c1f",
   "metadata": {},
   "outputs": [
    {
     "data": {
      "text/plain": [
       "7"
      ]
     },
     "execution_count": 53,
     "metadata": {},
     "output_type": "execute_result"
    }
   ],
   "source": [
    "x"
   ]
  },
  {
   "cell_type": "code",
   "execution_count": 54,
   "id": "12f86201",
   "metadata": {},
   "outputs": [],
   "source": [
    "x = my_altering_function(x)"
   ]
  },
  {
   "cell_type": "code",
   "execution_count": 55,
   "id": "d5db64f5",
   "metadata": {},
   "outputs": [
    {
     "data": {
      "text/plain": [
       "45"
      ]
     },
     "execution_count": 55,
     "metadata": {},
     "output_type": "execute_result"
    }
   ],
   "source": [
    "x"
   ]
  },
  {
   "cell_type": "code",
   "execution_count": 57,
   "id": "9ab81acd",
   "metadata": {},
   "outputs": [
    {
     "data": {
      "text/plain": [
       "int"
      ]
     },
     "execution_count": 57,
     "metadata": {},
     "output_type": "execute_result"
    }
   ],
   "source": [
    "type(x)"
   ]
  },
  {
   "cell_type": "code",
   "execution_count": 56,
   "id": "d8418755",
   "metadata": {},
   "outputs": [
    {
     "name": "stdout",
     "output_type": "stream",
     "text": [
      "Hello my class!\n"
     ]
    }
   ],
   "source": [
    "my_oneil_function()"
   ]
  },
  {
   "cell_type": "code",
   "execution_count": 58,
   "id": "eda5834c",
   "metadata": {},
   "outputs": [
    {
     "name": "stdout",
     "output_type": "stream",
     "text": [
      "Hello my class!\n"
     ]
    }
   ],
   "source": [
    "greeting = my_oneil_function()"
   ]
  },
  {
   "cell_type": "code",
   "execution_count": 59,
   "id": "d07dbb78",
   "metadata": {},
   "outputs": [],
   "source": [
    "greeting"
   ]
  },
  {
   "cell_type": "code",
   "execution_count": 60,
   "id": "a263d8c2",
   "metadata": {},
   "outputs": [
    {
     "data": {
      "text/plain": [
       "NoneType"
      ]
     },
     "execution_count": 60,
     "metadata": {},
     "output_type": "execute_result"
    }
   ],
   "source": [
    "type(greeting)"
   ]
  },
  {
   "cell_type": "code",
   "execution_count": 61,
   "id": "0226795e",
   "metadata": {},
   "outputs": [
    {
     "name": "stdout",
     "output_type": "stream",
     "text": [
      "hello this is correct, right\n"
     ]
    }
   ],
   "source": [
    "greeting_fixed = print('hello this is correct, right')"
   ]
  },
  {
   "cell_type": "code",
   "execution_count": 62,
   "id": "fb86fbb9",
   "metadata": {},
   "outputs": [
    {
     "data": {
      "text/plain": [
       "NoneType"
      ]
     },
     "execution_count": 62,
     "metadata": {},
     "output_type": "execute_result"
    }
   ],
   "source": [
    "type(greeting_fixed)"
   ]
  },
  {
   "cell_type": "code",
   "execution_count": 63,
   "id": "097e018a",
   "metadata": {},
   "outputs": [],
   "source": [
    "# elaborating on return:\n",
    "def my_hidden_stuff(some_string):\n",
    "    '''\n",
    "    Hide and seek\n",
    "    '''\n",
    "    print('hello!')\n",
    "    x = 5\n",
    "    return x\n",
    "    print('All Done!')"
   ]
  },
  {
   "cell_type": "code",
   "execution_count": 66,
   "id": "4aff65dd",
   "metadata": {},
   "outputs": [
    {
     "name": "stdout",
     "output_type": "stream",
     "text": [
      "hello!\n"
     ]
    }
   ],
   "source": [
    "my_var = my_hidden_stuff('please do thing')"
   ]
  },
  {
   "cell_type": "code",
   "execution_count": 67,
   "id": "8b21afaa",
   "metadata": {},
   "outputs": [
    {
     "data": {
      "text/plain": [
       "5"
      ]
     },
     "execution_count": 67,
     "metadata": {},
     "output_type": "execute_result"
    }
   ],
   "source": [
    "my_var"
   ]
  },
  {
   "cell_type": "code",
   "execution_count": 69,
   "id": "16bda91d",
   "metadata": {},
   "outputs": [],
   "source": [
    "def my_hidden_stuff_2(some_string):\n",
    "    '''\n",
    "    Hide and seek\n",
    "    '''\n",
    "    print('hello!')\n",
    "    x = 5\n",
    "    if len(some_string) > 6:\n",
    "        return x\n",
    "    else:\n",
    "        return 9\n",
    "    print('All Done!')\n",
    "    return 25"
   ]
  },
  {
   "cell_type": "code",
   "execution_count": 71,
   "id": "e8e47570",
   "metadata": {},
   "outputs": [
    {
     "data": {
      "text/plain": [
       "11"
      ]
     },
     "execution_count": 71,
     "metadata": {},
     "output_type": "execute_result"
    }
   ],
   "source": [
    "len('hello!!!!!!')"
   ]
  },
  {
   "cell_type": "code",
   "execution_count": 72,
   "id": "34683516",
   "metadata": {},
   "outputs": [
    {
     "name": "stdout",
     "output_type": "stream",
     "text": [
      "hello!\n"
     ]
    },
    {
     "data": {
      "text/plain": [
       "5"
      ]
     },
     "execution_count": 72,
     "metadata": {},
     "output_type": "execute_result"
    }
   ],
   "source": [
    "my_hidden_stuff_2('hello!!!!!!')"
   ]
  },
  {
   "cell_type": "code",
   "execution_count": 74,
   "id": "0f00922a",
   "metadata": {},
   "outputs": [
    {
     "name": "stdout",
     "output_type": "stream",
     "text": [
      "hello!\n"
     ]
    },
    {
     "data": {
      "text/plain": [
       "9"
      ]
     },
     "execution_count": 74,
     "metadata": {},
     "output_type": "execute_result"
    }
   ],
   "source": [
    "my_hidden_stuff_2('')"
   ]
  },
  {
   "cell_type": "code",
   "execution_count": 75,
   "id": "b8ef72c5",
   "metadata": {},
   "outputs": [],
   "source": [
    "def my_hidden_stuff_2(some_string, x):\n",
    "    '''\n",
    "    Hide and seek\n",
    "    '''\n",
    "    print('hello!')\n",
    "    x = 5\n",
    "    if len(some_string) > 6:\n",
    "        return x\n",
    "    else:\n",
    "        return 9\n",
    "    print('All Done!')\n",
    "    return 25"
   ]
  },
  {
   "cell_type": "code",
   "execution_count": 77,
   "id": "d6f1dc84",
   "metadata": {},
   "outputs": [
    {
     "ename": "TypeError",
     "evalue": "my_hidden_stuff_2() missing 1 required positional argument: 'x'",
     "output_type": "error",
     "traceback": [
      "\u001b[0;31m---------------------------------------------------------------------------\u001b[0m",
      "\u001b[0;31mTypeError\u001b[0m                                 Traceback (most recent call last)",
      "\u001b[0;32m<ipython-input-77-2e1215845527>\u001b[0m in \u001b[0;36m<module>\u001b[0;34m\u001b[0m\n\u001b[0;32m----> 1\u001b[0;31m \u001b[0mmy_hidden_stuff_2\u001b[0m\u001b[0;34m(\u001b[0m\u001b[0;34m'hello'\u001b[0m\u001b[0;34m)\u001b[0m\u001b[0;34m\u001b[0m\u001b[0;34m\u001b[0m\u001b[0m\n\u001b[0m",
      "\u001b[0;31mTypeError\u001b[0m: my_hidden_stuff_2() missing 1 required positional argument: 'x'"
     ]
    }
   ],
   "source": [
    "my_hidden_stuff_2('hello', 'class')"
   ]
  },
  {
   "cell_type": "code",
   "execution_count": 78,
   "id": "d2345f63",
   "metadata": {},
   "outputs": [],
   "source": [
    "# the above is an example of a scenario with two\n",
    "# positional arguments.\n",
    "# we must feed in some_string followed by x\n",
    "# it will always presume the first thing you fed\n",
    "# in as an argument is some_string,\n",
    "# and it will break if you dont have two arguments"
   ]
  },
  {
   "cell_type": "code",
   "execution_count": 79,
   "id": "86494222",
   "metadata": {},
   "outputs": [],
   "source": [
    "# positional arguments (parameters in def)\n",
    "# required, and ordinal!"
   ]
  },
  {
   "cell_type": "code",
   "execution_count": 86,
   "id": "2bc63d12",
   "metadata": {},
   "outputs": [],
   "source": [
    "def my_hidden_stuff_3(some_string, \n",
    "                      extra_kwarg='',\n",
    "                     kwarg_2=9):\n",
    "    '''\n",
    "    Hide and seek\n",
    "    '''\n",
    "    print('hello!')\n",
    "    x = 5\n",
    "    if len(some_string) > 6:\n",
    "        return x\n",
    "    else:\n",
    "        return 9\n",
    "    print('All Done!')\n",
    "    return 25"
   ]
  },
  {
   "cell_type": "code",
   "execution_count": 82,
   "id": "851bc359",
   "metadata": {},
   "outputs": [
    {
     "name": "stdout",
     "output_type": "stream",
     "text": [
      "hello!\n"
     ]
    },
    {
     "data": {
      "text/plain": [
       "9"
      ]
     },
     "execution_count": 82,
     "metadata": {},
     "output_type": "execute_result"
    }
   ],
   "source": [
    "my_hidden_stuff_3('hello!', 'class!')"
   ]
  },
  {
   "cell_type": "code",
   "execution_count": null,
   "id": "44b43cc9",
   "metadata": {},
   "outputs": [],
   "source": [
    "# the idea of a keyword argument, (kwarg for short)\n",
    "# friends call me kwarg\n"
   ]
  },
  {
   "cell_type": "code",
   "execution_count": 84,
   "id": "cd62ec48",
   "metadata": {},
   "outputs": [
    {
     "ename": "SyntaxError",
     "evalue": "positional argument follows keyword argument (<ipython-input-84-775b8575058d>, line 1)",
     "output_type": "error",
     "traceback": [
      "\u001b[0;36m  File \u001b[0;32m\"<ipython-input-84-775b8575058d>\"\u001b[0;36m, line \u001b[0;32m1\u001b[0m\n\u001b[0;31m    my_hidden_stuff_3(extra_kwarg='class!', 'hello!')\u001b[0m\n\u001b[0m                                                    ^\u001b[0m\n\u001b[0;31mSyntaxError\u001b[0m\u001b[0;31m:\u001b[0m positional argument follows keyword argument\n"
     ]
    }
   ],
   "source": [
    "my_hidden_stuff_3(extra_kwarg='class!', 'hello!')"
   ]
  },
  {
   "cell_type": "code",
   "execution_count": 87,
   "id": "bd1a5912",
   "metadata": {},
   "outputs": [
    {
     "name": "stdout",
     "output_type": "stream",
     "text": [
      "hello!\n"
     ]
    },
    {
     "data": {
      "text/plain": [
       "9"
      ]
     },
     "execution_count": 87,
     "metadata": {},
     "output_type": "execute_result"
    }
   ],
   "source": [
    "my_hidden_stuff_3('hello!',\n",
    "                  kwarg_2=21,\n",
    "                  extra_kwarg='class!')"
   ]
  },
  {
   "cell_type": "code",
   "execution_count": 88,
   "id": "df0aada8",
   "metadata": {},
   "outputs": [],
   "source": [
    "# a brief note on unpacking!"
   ]
  },
  {
   "cell_type": "code",
   "execution_count": 103,
   "id": "a538aa29",
   "metadata": {},
   "outputs": [],
   "source": [
    "my_list_of_args = ['hello', '9', 24]"
   ]
  },
  {
   "cell_type": "code",
   "execution_count": 104,
   "id": "f8d3e342",
   "metadata": {},
   "outputs": [
    {
     "data": {
      "text/plain": [
       "[99, '9', 24]"
      ]
     },
     "execution_count": 104,
     "metadata": {},
     "output_type": "execute_result"
    }
   ],
   "source": [
    "my_list_of_args"
   ]
  },
  {
   "cell_type": "code",
   "execution_count": 106,
   "id": "cb9a832e",
   "metadata": {},
   "outputs": [
    {
     "name": "stdout",
     "output_type": "stream",
     "text": [
      "hello!\n"
     ]
    },
    {
     "data": {
      "text/plain": [
       "9"
      ]
     },
     "execution_count": 106,
     "metadata": {},
     "output_type": "execute_result"
    }
   ],
   "source": [
    "my_hidden_stuff_3(my_list_of_args)"
   ]
  },
  {
   "cell_type": "code",
   "execution_count": 123,
   "id": "16aef681",
   "metadata": {},
   "outputs": [],
   "source": [
    "def my_extra_fun(x=5, y=10):\n",
    "    print(x)\n",
    "    print(y)\n",
    "    x += 5\n",
    "    y += 5\n",
    "    return x, y"
   ]
  },
  {
   "cell_type": "code",
   "execution_count": 98,
   "id": "2c81703d",
   "metadata": {},
   "outputs": [
    {
     "data": {
      "text/plain": [
       "<function __main__.my_extra_fun(x=5, y=10)>"
      ]
     },
     "execution_count": 98,
     "metadata": {},
     "output_type": "execute_result"
    }
   ],
   "source": [
    "my_extra_fun"
   ]
  },
  {
   "cell_type": "code",
   "execution_count": 99,
   "id": "09b8da2a",
   "metadata": {},
   "outputs": [
    {
     "data": {
      "text/plain": [
       "(10, 15)"
      ]
     },
     "execution_count": 99,
     "metadata": {},
     "output_type": "execute_result"
    }
   ],
   "source": [
    "# invoking the function on its own,\n",
    "# the return values just spit out to \n",
    "# the notebook\n",
    "my_extra_fun()"
   ]
  },
  {
   "cell_type": "code",
   "execution_count": 100,
   "id": "55cf1f2e",
   "metadata": {},
   "outputs": [],
   "source": [
    "# my_extra_fun is called,\n",
    "# it operates based on the default values\n",
    "# that were defined inside the function\n",
    "# definition,\n",
    "# and the altered versions\n",
    "# are returned *in order* \n",
    "# into the new global variabes\n",
    "# my_global_x and my_global_y\n",
    "my_global_x, my_global_y = my_extra_fun()"
   ]
  },
  {
   "cell_type": "code",
   "execution_count": 101,
   "id": "17edcfc7",
   "metadata": {},
   "outputs": [
    {
     "data": {
      "text/plain": [
       "10"
      ]
     },
     "execution_count": 101,
     "metadata": {},
     "output_type": "execute_result"
    }
   ],
   "source": [
    "my_global_x"
   ]
  },
  {
   "cell_type": "code",
   "execution_count": 121,
   "id": "de751946",
   "metadata": {},
   "outputs": [],
   "source": [
    "my_dict_kwargs = {\n",
    "    'a': 5,\n",
    "    'x': 15\n",
    "}"
   ]
  },
  {
   "cell_type": "code",
   "execution_count": 133,
   "id": "4f8a6d51",
   "metadata": {},
   "outputs": [
    {
     "name": "stdout",
     "output_type": "stream",
     "text": [
      "10\n",
      "45\n"
     ]
    },
    {
     "data": {
      "text/plain": [
       "(15, 50)"
      ]
     },
     "execution_count": 133,
     "metadata": {},
     "output_type": "execute_result"
    }
   ],
   "source": [
    "my_extra_fun(y=45, x=10)"
   ]
  },
  {
   "cell_type": "code",
   "execution_count": 131,
   "id": "2538cc9e",
   "metadata": {},
   "outputs": [
    {
     "name": "stdout",
     "output_type": "stream",
     "text": [
      "5\n",
      "15\n"
     ]
    },
    {
     "data": {
      "text/plain": [
       "(10, 20)"
      ]
     },
     "execution_count": 131,
     "metadata": {},
     "output_type": "execute_result"
    }
   ],
   "source": [
    "# double star unpacking will recognize the keys\n",
    "# \n",
    "my_extra_fun(*my_dict_kwargs.values())"
   ]
  },
  {
   "cell_type": "code",
   "execution_count": 111,
   "id": "9c1a66e5",
   "metadata": {},
   "outputs": [
    {
     "data": {
      "text/plain": [
       "(20, 25)"
      ]
     },
     "execution_count": 111,
     "metadata": {},
     "output_type": "execute_result"
    }
   ],
   "source": [
    "my_extra_fun(x=15,y=20)"
   ]
  },
  {
   "cell_type": "code",
   "execution_count": 126,
   "id": "52e8fa0d",
   "metadata": {},
   "outputs": [],
   "source": [
    "# extra extra note;\n",
    "# lambdas:"
   ]
  },
  {
   "cell_type": "code",
   "execution_count": 129,
   "id": "c87da486",
   "metadata": {},
   "outputs": [
    {
     "data": {
      "text/plain": [
       "dict_values([5, 15])"
      ]
     },
     "execution_count": 129,
     "metadata": {},
     "output_type": "execute_result"
    }
   ],
   "source": [
    "my_dict_kwargs.values()"
   ]
  },
  {
   "cell_type": "code",
   "execution_count": 132,
   "id": "a8f9534f",
   "metadata": {},
   "outputs": [],
   "source": [
    "# lambda functions are a \n",
    "# quick way to write a one-liner:"
   ]
  },
  {
   "cell_type": "code",
   "execution_count": 134,
   "id": "29b4bc49",
   "metadata": {},
   "outputs": [
    {
     "data": {
      "text/plain": [
       "<function __main__.<lambda>(x)>"
      ]
     },
     "execution_count": 134,
     "metadata": {},
     "output_type": "execute_result"
    }
   ],
   "source": [
    "lambda x: x + 5"
   ]
  },
  {
   "cell_type": "code",
   "execution_count": 135,
   "id": "45ab59a4",
   "metadata": {},
   "outputs": [],
   "source": [
    "# assign a variable called my_first_lambda\n",
    "my_first_lambda = lambda x: x + 5"
   ]
  },
  {
   "cell_type": "code",
   "execution_count": 136,
   "id": "802d4127",
   "metadata": {},
   "outputs": [
    {
     "data": {
      "text/plain": [
       "<function __main__.<lambda>(x)>"
      ]
     },
     "execution_count": 136,
     "metadata": {},
     "output_type": "execute_result"
    }
   ],
   "source": [
    "my_first_lambda"
   ]
  },
  {
   "cell_type": "code",
   "execution_count": 137,
   "id": "b35b4ecb",
   "metadata": {},
   "outputs": [
    {
     "data": {
      "text/plain": [
       "10"
      ]
     },
     "execution_count": 137,
     "metadata": {},
     "output_type": "execute_result"
    }
   ],
   "source": [
    "my_first_lambda(5)"
   ]
  },
  {
   "cell_type": "code",
   "execution_count": 138,
   "id": "c0404a31",
   "metadata": {},
   "outputs": [],
   "source": [
    "# structure:\n",
    "# lambda <variable_name>: <whatever I do to this variable>"
   ]
  },
  {
   "cell_type": "code",
   "execution_count": 142,
   "id": "b5cee117",
   "metadata": {},
   "outputs": [],
   "source": [
    "my_ham = lambda ham_sandwich: ham_sandwich + 1"
   ]
  },
  {
   "cell_type": "code",
   "execution_count": 143,
   "id": "4396044a",
   "metadata": {},
   "outputs": [
    {
     "data": {
      "text/plain": [
       "6"
      ]
     },
     "execution_count": 143,
     "metadata": {},
     "output_type": "execute_result"
    }
   ],
   "source": [
    "my_ham(5)"
   ]
  },
  {
   "cell_type": "code",
   "execution_count": null,
   "id": "4f7224fb",
   "metadata": {},
   "outputs": [],
   "source": []
  }
 ],
 "metadata": {
  "kernelspec": {
   "display_name": "Python 3",
   "language": "python",
   "name": "python3"
  },
  "language_info": {
   "codemirror_mode": {
    "name": "ipython",
    "version": 3
   },
   "file_extension": ".py",
   "mimetype": "text/x-python",
   "name": "python",
   "nbconvert_exporter": "python",
   "pygments_lexer": "ipython3",
   "version": "3.9.4"
  }
 },
 "nbformat": 4,
 "nbformat_minor": 5
}
