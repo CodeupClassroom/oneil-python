{
 "cells": [
  {
   "cell_type": "markdown",
   "id": "d6f239b4",
   "metadata": {},
   "source": [
    "### Example solutions for exercises 5 - 9 \n",
    "\n",
    "[Reference](https://ds.codeup.com/python/data-types-and-variables/)\n",
    "\n",
    "### Recommendations\n",
    "\n",
    "- Break down problem into small tasks\n",
    "\n",
    "- Use descriptive variable names\n",
    "\n",
    "- Change assigned values to test the behavior\n",
    "\n",
    "- Format the output using string formatting \n",
    "\n"
   ]
  },
  {
   "cell_type": "markdown",
   "id": "0ad4777f",
   "metadata": {},
   "source": [
    "---\n",
    "\n",
    "## 5. Movie rental cost"
   ]
  },
  {
   "cell_type": "markdown",
   "id": "775998fa",
   "metadata": {},
   "source": [
    "\n",
    "#### Tasks\n",
    "\n",
    "-  Assign each value to a variable to represent:\n",
    "\n",
    "    - Rate for a movie\n",
    "    - Days for each movie\n",
    "\n",
    "- Write a mathematical expression to calculate total cost\n",
    "\n",
    "\n"
   ]
  },
  {
   "cell_type": "code",
   "execution_count": 101,
   "id": "05cdb925",
   "metadata": {},
   "outputs": [
    {
     "name": "stdout",
     "output_type": "stream",
     "text": [
      "The total cost is $27.\n"
     ]
    }
   ],
   "source": [
    "# Assign variables to represent the rental time\n",
    "\n",
    "days_little_mermaid = 3\n",
    "days_brother_bear = 5\n",
    "days_hercules = 1\n",
    "\n",
    "# Assign variables to represent rental daily rate\n",
    "\n",
    "daily_rate = 3\n",
    "\n",
    "\n",
    "# Create equation to represent total cost\n",
    "# \n",
    "\n",
    "total_rental_cost = ( days_little_mermaid * daily_rate ) + ( days_brother_bear * daily_rate ) + ( days_hercules * daily_rate)\n",
    "\n",
    "'''Alernatiave calculation\n",
    "total_rental_cost = (days_little_mermaid + days_brother_bear + days_hercules) * daily_rate\n",
    "'''\n",
    "\n",
    "\n",
    "print(f'The total cost is ${total_rental_cost}.')"
   ]
  },
  {
   "cell_type": "markdown",
   "id": "c50ce140",
   "metadata": {},
   "source": [
    "---\n",
    "\n",
    "## 6. Weekly paycheck"
   ]
  },
  {
   "cell_type": "markdown",
   "id": "ead34116",
   "metadata": {},
   "source": [
    "#### Tasks\n",
    "\n",
    "-  Assign a value to a variable to represent:\n",
    "\n",
    "    - Hourly rate for each company\n",
    "    \n",
    "    - Number of hours worked\n",
    "\n",
    "- Write a mathematical expression to calculate total payment"
   ]
  },
  {
   "cell_type": "code",
   "execution_count": 102,
   "id": "731b8f28",
   "metadata": {},
   "outputs": [
    {
     "name": "stdout",
     "output_type": "stream",
     "text": [
      "The total payment this week is $7420.\n"
     ]
    }
   ],
   "source": [
    "# Solution 1\n",
    "\n",
    "# Assign variables to represent the hourly rate\n",
    "\n",
    "rate_google = 400\n",
    "rate_amazon = 380\n",
    "rate_facebook = 350\n",
    "\n",
    "# Assign variables to represent hours worked\n",
    "\n",
    "hours_google = 6\n",
    "hours_amazon = 4\n",
    "hours_facebook = 10\n",
    "\n",
    "\n",
    "# Create equation to represent total payment\n",
    "# \n",
    "\n",
    "total_pay = ( rate_google * hours_google) + ( rate_amazon * hours_amazon ) + ( rate_facebook * hours_facebook)\n",
    "\n",
    "\n",
    "print(f'The total payment this week is ${total_pay}.')"
   ]
  },
  {
   "cell_type": "markdown",
   "id": "4e74620a",
   "metadata": {},
   "source": [
    "---\n",
    "\n",
    "## 7. Class Enrollment Eligibility"
   ]
  },
  {
   "cell_type": "markdown",
   "id": "df840e89",
   "metadata": {},
   "source": [
    "#### Tasks\n",
    "\n",
    "-  Create a variable to hold the Boolean value of the following conditions:\n",
    "\n",
    "    -  Whether or not the class is full\n",
    "    \n",
    "    -  Whether there is a schedule conflict\n",
    "\n",
    "- Combine conditions to check whether a student can enroll"
   ]
  },
  {
   "cell_type": "code",
   "execution_count": 103,
   "id": "2ede0af9",
   "metadata": {},
   "outputs": [
    {
     "name": "stdout",
     "output_type": "stream",
     "text": [
      "Sorry, you are not eligible to enroll.\n"
     ]
    }
   ],
   "source": [
    "## Set conditions \n",
    "\n",
    "class_not_full = True\n",
    "no_conflict = False\n",
    "\n",
    "\n",
    "## Combine with and operator since BOTH conditions must be met\n",
    "enrollment_eligibility = class_not_full and no_conflict\n",
    "\n",
    "\n",
    "if enrollment_eligibility == True:\n",
    "    print ('You can enroll!')\n",
    "else:\n",
    "    print ('Sorry, you are not eligible to enroll.')\n",
    "    \n",
    "\n",
    "\n",
    "## Change the values for the two conditions to see the results"
   ]
  },
  {
   "cell_type": "markdown",
   "id": "d23caf4a",
   "metadata": {},
   "source": [
    "---\n",
    "\n",
    "## 8. Product Offer Eligibility"
   ]
  },
  {
   "cell_type": "markdown",
   "id": "a6d92b0b",
   "metadata": {},
   "source": [
    "#### Tasks\n",
    "\n",
    "-  Create a variable to hold the Boolean value of the following conditions:\n",
    "\n",
    "    -  More than 2 items purchased\n",
    "    \n",
    "    -  Offer is not expired\n",
    "    \n",
    "    -  Premium member\n",
    "\n",
    "- Combine conditions to check whether a product offer applies\n",
    "\n",
    "    - Situation 1: More than 2 items and offer not expired\n",
    "    - Situation 2: Premium member and offer not expired"
   ]
  },
  {
   "cell_type": "code",
   "execution_count": 104,
   "id": "726ae988",
   "metadata": {},
   "outputs": [
    {
     "name": "stdout",
     "output_type": "stream",
     "text": [
      "You are eligible for a product offer!\n"
     ]
    }
   ],
   "source": [
    "## Set conditions \n",
    "\n",
    "premium_member = True\n",
    "over_two_items = False\n",
    "coupon_not_expired = True\n",
    "\n",
    "## Combine with and operator since BOTH conditions must be met\n",
    "## Coupon not expired MUST be true\n",
    "## At least one of: Premium member or Over 2 items should be true\n",
    "\n",
    "offer_eligibility = coupon_not_expired and (over_two_items or premium_member)\n",
    "\n",
    "\n",
    "if offer_eligibility == True:\n",
    "    print ('You are eligible for a product offer!')\n",
    "else:\n",
    "    print ('Sorry, you cannot use this product offer.')\n",
    "    \n",
    "\n",
    "\n",
    "## Change the values for the three conditions to see the results"
   ]
  },
  {
   "cell_type": "markdown",
   "id": "e68fe1d7",
   "metadata": {},
   "source": [
    "---\n",
    "\n",
    "## 9. Username and password requirements"
   ]
  },
  {
   "cell_type": "markdown",
   "id": "15d5c56b",
   "metadata": {},
   "source": [
    "#### Tasks\n",
    "\n",
    "-  Create a variable to hold the Boolean value of the following conditions:\n",
    "\n",
    "    -  Password length is >= 5\n",
    "    \n",
    "    -  Username <= 20\n",
    "    \n",
    "    -  Password and username are different\n",
    "\n",
    "Bonus: Check for whitespace in username and password"
   ]
  },
  {
   "cell_type": "code",
   "execution_count": 105,
   "id": "997d6fe1",
   "metadata": {},
   "outputs": [],
   "source": [
    "# Set values for username and password\n",
    "username = 'codeup'\n",
    "password = 'notastrongpassword'"
   ]
  },
  {
   "cell_type": "code",
   "execution_count": 106,
   "id": "295f6f5c",
   "metadata": {},
   "outputs": [],
   "source": [
    "# Password length\n",
    "min_password_length = len(password) >= 5"
   ]
  },
  {
   "cell_type": "code",
   "execution_count": 107,
   "id": "eeebdd0c",
   "metadata": {},
   "outputs": [],
   "source": [
    "# Username length\n",
    "max_username_length = len(username) <= 20"
   ]
  },
  {
   "cell_type": "code",
   "execution_count": 108,
   "id": "cb8ccb0c",
   "metadata": {},
   "outputs": [],
   "source": [
    "# Password and username unique\n",
    "unique_password_username = username != password"
   ]
  },
  {
   "cell_type": "code",
   "execution_count": 109,
   "id": "5406965f",
   "metadata": {},
   "outputs": [],
   "source": [
    "# White space\n",
    "whitespace_username = ' ' in username\n",
    "whitespace_password = ' ' in password\n",
    "\n",
    "# No whitespace is True when both whitespace conditions are False\n",
    "no_whitespace = not whitespace_username and not whitespace_password"
   ]
  },
  {
   "cell_type": "code",
   "execution_count": 110,
   "id": "04898f47",
   "metadata": {},
   "outputs": [
    {
     "data": {
      "text/plain": [
       "False"
      ]
     },
     "execution_count": 110,
     "metadata": {},
     "output_type": "execute_result"
    }
   ],
   "source": [
    "whitespace_username"
   ]
  },
  {
   "cell_type": "code",
   "execution_count": 111,
   "id": "e4a7bcc1",
   "metadata": {},
   "outputs": [
    {
     "data": {
      "text/plain": [
       "True"
      ]
     },
     "execution_count": 111,
     "metadata": {},
     "output_type": "execute_result"
    }
   ],
   "source": [
    "no_whitespace"
   ]
  },
  {
   "cell_type": "markdown",
   "id": "c3e220de",
   "metadata": {},
   "source": [
    "#### Note: Change the values for username and password to see how this affects the conditions."
   ]
  },
  {
   "cell_type": "markdown",
   "id": "ee2e75aa",
   "metadata": {},
   "source": [
    "### Example feedback for conditions"
   ]
  },
  {
   "cell_type": "code",
   "execution_count": 28,
   "id": "7a2eb34e",
   "metadata": {},
   "outputs": [
    {
     "name": "stdout",
     "output_type": "stream",
     "text": [
      "The password meets the minimum length.\n"
     ]
    }
   ],
   "source": [
    "if min_password_length == True:\n",
    "    print('The password meets the minimum length.')\n",
    "else:\n",
    "    print('The password is too short. Please create a password that is at least 5 characters.')"
   ]
  },
  {
   "cell_type": "code",
   "execution_count": 33,
   "id": "68e42dcd",
   "metadata": {},
   "outputs": [
    {
     "name": "stdout",
     "output_type": "stream",
     "text": [
      "The username is valid\n"
     ]
    }
   ],
   "source": [
    "if max_username_length == False:\n",
    "    print ('The username is too long. Please choose a username that is at most 20 characters.')\n",
    "\n",
    "else:\n",
    "    print ('The username is valid')"
   ]
  },
  {
   "cell_type": "code",
   "execution_count": 37,
   "id": "9448b287",
   "metadata": {},
   "outputs": [
    {
     "name": "stdout",
     "output_type": "stream",
     "text": [
      "Username and password are distinct.\n"
     ]
    }
   ],
   "source": [
    "if unique_password_username == False:\n",
    "    print('The username and password cannot be the same.')\n",
    "else: \n",
    "    print('Username and password are distinct.')"
   ]
  },
  {
   "cell_type": "code",
   "execution_count": 59,
   "id": "8dd66d5a",
   "metadata": {},
   "outputs": [],
   "source": [
    "if whitespace_password == True:\n",
    "    print('There cannot be a space in the password')"
   ]
  },
  {
   "cell_type": "code",
   "execution_count": 60,
   "id": "592d649f",
   "metadata": {},
   "outputs": [
    {
     "name": "stdout",
     "output_type": "stream",
     "text": [
      "There cannot be a space in the username\n"
     ]
    }
   ],
   "source": [
    "if whitespace_username == True:\n",
    "    print('There cannot be a space in the username')"
   ]
  },
  {
   "cell_type": "markdown",
   "id": "8b6c7892",
   "metadata": {},
   "source": [
    "## All conditions combined "
   ]
  },
  {
   "cell_type": "code",
   "execution_count": 99,
   "id": "4f128eb3",
   "metadata": {},
   "outputs": [
    {
     "name": "stdout",
     "output_type": "stream",
     "text": [
      "Your username and password are valid.\n"
     ]
    }
   ],
   "source": [
    "## Must meet each length condition\n",
    "## Must meet uniqueness condition\n",
    "## No Whitespace requirement needs to be True\n",
    "if min_password_length and max_username_length and unique_password_username and no_whitespace:\n",
    "    print('Your username and password are valid.')\n",
    "else:\n",
    "    print ('There is an issue with your username or password')"
   ]
  }
 ],
 "metadata": {
  "kernelspec": {
   "display_name": "Python 3 (ipykernel)",
   "language": "python",
   "name": "python3"
  },
  "language_info": {
   "codemirror_mode": {
    "name": "ipython",
    "version": 3
   },
   "file_extension": ".py",
   "mimetype": "text/x-python",
   "name": "python",
   "nbconvert_exporter": "python",
   "pygments_lexer": "ipython3",
   "version": "3.9.13"
  }
 },
 "nbformat": 4,
 "nbformat_minor": 5
}
